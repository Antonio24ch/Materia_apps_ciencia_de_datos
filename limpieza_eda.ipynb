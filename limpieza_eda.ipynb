{
  "cells": [
    {
      "cell_type": "markdown",
      "metadata": {
        "id": "view-in-github",
        "colab_type": "text"
      },
      "source": [
        "<a href=\"https://colab.research.google.com/github/Antonio24ch/Materia_apps_ciencia_de_datos/blob/main/limpieza_eda.ipynb\" target=\"_parent\"><img src=\"https://colab.research.google.com/assets/colab-badge.svg\" alt=\"Open In Colab\"/></a>"
      ]
    },
    {
      "cell_type": "code",
      "source": [
        "!pip install boto3\n",
        "!pip install pickle\n",
        "!pip install yaml\n",
        "!pip install sodapy"
      ],
      "metadata": {
        "id": "gYPQJ83_fjoC",
        "colab": {
          "base_uri": "https://localhost:8080/"
        },
        "outputId": "2f6c8891-7a00-443a-e8ac-8cf6d0951752"
      },
      "execution_count": null,
      "outputs": [
        {
          "output_type": "stream",
          "name": "stdout",
          "text": [
            "Collecting boto3\n",
            "  Downloading boto3-1.26.94-py3-none-any.whl (135 kB)\n",
            "\u001b[2K     \u001b[90m━━━━━━━━━━━━━━━━━━━━━━━━━━━━━━━━━━━━━\u001b[0m \u001b[32m135.1/135.1 KB\u001b[0m \u001b[31m985.0 kB/s\u001b[0m eta \u001b[36m0:00:00\u001b[0m\n",
            "\u001b[?25hCollecting botocore<1.30.0,>=1.29.94\n",
            "  Downloading botocore-1.29.94-py3-none-any.whl (10.5 MB)\n",
            "\u001b[2K     \u001b[90m━━━━━━━━━━━━━━━━━━━━━━━━━━━━━━━━━━━━━━━━\u001b[0m \u001b[32m10.5/10.5 MB\u001b[0m \u001b[31m36.6 MB/s\u001b[0m eta \u001b[36m0:00:00\u001b[0m\n",
            "\u001b[?25hCollecting jmespath<2.0.0,>=0.7.1\n",
            "  Downloading jmespath-1.0.1-py3-none-any.whl (20 kB)\n",
            "Collecting s3transfer<0.7.0,>=0.6.0\n",
            "  Downloading s3transfer-0.6.0-py3-none-any.whl (79 kB)\n",
            "\u001b[2K     \u001b[90m━━━━━━━━━━━━━━━━━━━━━━━━━━━━━━━━━━━━━━━━\u001b[0m \u001b[32m79.6/79.6 KB\u001b[0m \u001b[31m4.7 MB/s\u001b[0m eta \u001b[36m0:00:00\u001b[0m\n",
            "\u001b[?25hRequirement already satisfied: urllib3<1.27,>=1.25.4 in /usr/local/lib/python3.9/dist-packages (from botocore<1.30.0,>=1.29.94->boto3) (1.26.15)\n",
            "Requirement already satisfied: python-dateutil<3.0.0,>=2.1 in /usr/local/lib/python3.9/dist-packages (from botocore<1.30.0,>=1.29.94->boto3) (2.8.2)\n",
            "Requirement already satisfied: six>=1.5 in /usr/local/lib/python3.9/dist-packages (from python-dateutil<3.0.0,>=2.1->botocore<1.30.0,>=1.29.94->boto3) (1.15.0)\n",
            "Installing collected packages: jmespath, botocore, s3transfer, boto3\n",
            "Successfully installed boto3-1.26.94 botocore-1.29.94 jmespath-1.0.1 s3transfer-0.6.0\n",
            "Looking in indexes: https://pypi.org/simple, https://us-python.pkg.dev/colab-wheels/public/simple/\n",
            "\u001b[31mERROR: Could not find a version that satisfies the requirement pickle (from versions: none)\u001b[0m\u001b[31m\n",
            "\u001b[0m\u001b[31mERROR: No matching distribution found for pickle\u001b[0m\u001b[31m\n",
            "\u001b[0mLooking in indexes: https://pypi.org/simple, https://us-python.pkg.dev/colab-wheels/public/simple/\n",
            "\u001b[31mERROR: Could not find a version that satisfies the requirement yaml (from versions: none)\u001b[0m\u001b[31m\n",
            "\u001b[0m\u001b[31mERROR: No matching distribution found for yaml\u001b[0m\u001b[31m\n",
            "\u001b[0mLooking in indexes: https://pypi.org/simple, https://us-python.pkg.dev/colab-wheels/public/simple/\n",
            "Collecting sodapy\n",
            "  Downloading sodapy-2.2.0-py2.py3-none-any.whl (15 kB)\n",
            "Collecting requests>=2.28.1\n",
            "  Downloading requests-2.28.2-py3-none-any.whl (62 kB)\n",
            "\u001b[2K     \u001b[90m━━━━━━━━━━━━━━━━━━━━━━━━━━━━━━━━━━━━━━━━\u001b[0m \u001b[32m62.8/62.8 KB\u001b[0m \u001b[31m2.7 MB/s\u001b[0m eta \u001b[36m0:00:00\u001b[0m\n",
            "\u001b[?25hRequirement already satisfied: urllib3<1.27,>=1.21.1 in /usr/local/lib/python3.9/dist-packages (from requests>=2.28.1->sodapy) (1.26.15)\n",
            "Requirement already satisfied: certifi>=2017.4.17 in /usr/local/lib/python3.9/dist-packages (from requests>=2.28.1->sodapy) (2022.12.7)\n",
            "Requirement already satisfied: idna<4,>=2.5 in /usr/local/lib/python3.9/dist-packages (from requests>=2.28.1->sodapy) (3.4)\n",
            "Requirement already satisfied: charset-normalizer<4,>=2 in /usr/local/lib/python3.9/dist-packages (from requests>=2.28.1->sodapy) (2.0.12)\n",
            "Installing collected packages: requests, sodapy\n",
            "  Attempting uninstall: requests\n",
            "    Found existing installation: requests 2.27.1\n",
            "    Uninstalling requests-2.27.1:\n",
            "      Successfully uninstalled requests-2.27.1\n",
            "Successfully installed requests-2.28.2 sodapy-2.2.0\n"
          ]
        }
      ]
    },
    {
      "cell_type": "code",
      "execution_count": null,
      "metadata": {
        "id": "rV3MMdpAfWvT"
      },
      "outputs": [],
      "source": [
        "import pandas as pd\n",
        "import numpy as np\n",
        "import matplotlib.pyplot as plt\n",
        "import seaborn as sns\n",
        "import yaml\n",
        "import pickle\n",
        "import boto3\n",
        "\n",
        "from datetime import date\n",
        "from sodapy import Socrata"
      ]
    },
    {
      "cell_type": "code",
      "execution_count": null,
      "metadata": {
        "id": "9Z-54nM-fWvV"
      },
      "outputs": [],
      "source": [
        "with open('credentials_.yaml', 'r') as f:\n",
        "    x= yaml.safe_load(f)\n"
      ]
    },
    {
      "cell_type": "markdown",
      "source": [
        "cargar_datos_s3: Esta función recibe como parámetros el bucket de S3 y la ruta donde se encuentra el archivo con los datos de inspecciones que queremos revisar.           \n",
        "Para saber qué archivo bajar tendrás que ocupar la función list_objects_v2 de boto3 e identificar el nombre del pkl que almacenaste.\n",
        " "
      ],
      "metadata": {
        "id": "lcQ-TvQuTJYk"
      }
    },
    {
      "cell_type": "code",
      "source": [
        "def cargar_datos_s3(bucket, bucket_path):\n",
        "    session = boto3.Session(\n",
        "        aws_access_key_id = x['s3']['aws_access_key_id'],\n",
        "        aws_secret_access_key = x['s3']['aws_secret_access_key'],\n",
        "        aws_session_token = x['s3']['aws_session_token']\n",
        "    )\n",
        "\n",
        "    s3 = session.resource('s3')\n",
        "    \n",
        "    obj = s3.Object(bucket, bucket_path).get()['Body'].read()\n",
        "    data_loaded = pickle.loads(obj)\n",
        "    \n",
        "    return data_loaded"
      ],
      "metadata": {
        "id": "xisOo3jNGFeN"
      },
      "execution_count": null,
      "outputs": []
    },
    {
      "cell_type": "code",
      "source": [
        "session = boto3.Session(\n",
        "    aws_access_key_id = x['s3']['aws_access_key_id'],\n",
        "    aws_secret_access_key = x['s3']['aws_secret_access_key'],\n",
        "    aws_session_token = x['s3']['aws_session_token']\n",
        ")\n",
        "\n",
        "s3 = session.client('s3')\n",
        "\n",
        "bucket = \"aplicaciones-cd-1\" + x['iexe']['matricula']\n",
        "key = \"ingesta/inicial/\""
      ],
      "metadata": {
        "id": "S7K-2IgIGFgz"
      },
      "execution_count": null,
      "outputs": []
    },
    {
      "cell_type": "code",
      "source": [
        "path = s3.list_objects_v2(Bucket=bucket, Prefix=key)['Contents'][0]['Key']"
      ],
      "metadata": {
        "id": "rFQt41fNGFje"
      },
      "execution_count": null,
      "outputs": []
    },
    {
      "cell_type": "code",
      "source": [
        "inspections = cargar_datos_s3(bucket, path)"
      ],
      "metadata": {
        "id": "MTwf60_5GFqH"
      },
      "execution_count": null,
      "outputs": []
    },
    {
      "cell_type": "markdown",
      "source": [
        "transformar_ingesta: Esta función recibe como parámetro los datos descargados desde el bucket de S3. \n",
        "Debe regresar un data frame que contiene los registros de las inspecciones históricas que se han realizado a  establecimientos de comida en Chicago.\n",
        " "
      ],
      "metadata": {
        "id": "Mo9Z45FJTMrL"
      }
    },
    {
      "cell_type": "code",
      "source": [
        "def transformar_ingesta(file_name):\n",
        "     \n",
        "    df = pd.DataFrame.from_dict(file_name)\n",
        "    \n",
        "\n",
        "    return df\n",
        "\n"
      ],
      "metadata": {
        "id": "l-cj_hEwJtmZ"
      },
      "execution_count": null,
      "outputs": []
    },
    {
      "cell_type": "code",
      "source": [
        "nuevo_df = transformar_ingesta(inspections)\n",
        "nuevo_df.head(5)"
      ],
      "metadata": {
        "colab": {
          "base_uri": "https://localhost:8080/",
          "height": 409
        },
        "id": "o-yl_JxAJtpQ",
        "outputId": "8b406155-7751-488b-ff2d-02bd829dde68"
      },
      "execution_count": null,
      "outputs": [
        {
          "output_type": "execute_result",
          "data": {
            "text/plain": [
              "  inspection_id                        dba_name  \\\n",
              "0       2568436  SCHWAB REHAB HOSPITAL&CARE NET   \n",
              "1       2567065                      PARK MANOR   \n",
              "2       2564901            CHEEZE AND THANK YOU   \n",
              "3       2561538                PACINO'S RC, LLC   \n",
              "4       2555843                MC DONALD'S 6039   \n",
              "\n",
              "                         aka_name license_ facility_type             risk  \\\n",
              "0  SCHWAB REHAB HOSPITAL&CARE NET  2205586      Hospital    Risk 1 (High)   \n",
              "1           PARK MANOR ELEMENTARY    24841        School    Risk 1 (High)   \n",
              "2            CHEEZE AND THANK YOU  2872888           NaN              All   \n",
              "3                         PACINOS  2683667    Restaurant    Risk 1 (High)   \n",
              "4                     MC DONALD'S  2341076    Restaurant  Risk 2 (Medium)   \n",
              "\n",
              "                     address     city state    zip          inspection_date  \\\n",
              "0     1401 S CALIFORNIA AVE   CHICAGO    IL  60608  2022-12-13T00:00:00.000   \n",
              "1  7037 S Rhodes (532E) AVE   CHICAGO    IL  60637  2022-11-15T00:00:00.000   \n",
              "2          2046 E GRAND AVE       NaN    IL    NaN  2022-10-06T00:00:00.000   \n",
              "3          1010 S DELANO CT   CHICAGO    IL  60605  2022-08-01T00:00:00.000   \n",
              "4     5656 W IRVING PARK RD   CHICAGO    IL  60634  2022-05-16T00:00:00.000   \n",
              "\n",
              "  inspection_type    results           latitude           longitude  \\\n",
              "0         Canvass       Pass                NaN                 NaN   \n",
              "1         Canvass       Pass                NaN                 NaN   \n",
              "2         License  Not Ready                NaN                 NaN   \n",
              "3         Canvass   No Entry                NaN                 NaN   \n",
              "4         Canvass       Pass  41.95326311074034  -87.76931122260137   \n",
              "\n",
              "                                            location violations  \n",
              "0                                                NaN        NaN  \n",
              "1                                                NaN        NaN  \n",
              "2                                                NaN        NaN  \n",
              "3                                                NaN        NaN  \n",
              "4  {'latitude': '41.95326311074034', 'longitude':...        NaN  "
            ],
            "text/html": [
              "\n",
              "  <div id=\"df-0fb76277-43d4-468a-a667-a81ad16cd056\">\n",
              "    <div class=\"colab-df-container\">\n",
              "      <div>\n",
              "<style scoped>\n",
              "    .dataframe tbody tr th:only-of-type {\n",
              "        vertical-align: middle;\n",
              "    }\n",
              "\n",
              "    .dataframe tbody tr th {\n",
              "        vertical-align: top;\n",
              "    }\n",
              "\n",
              "    .dataframe thead th {\n",
              "        text-align: right;\n",
              "    }\n",
              "</style>\n",
              "<table border=\"1\" class=\"dataframe\">\n",
              "  <thead>\n",
              "    <tr style=\"text-align: right;\">\n",
              "      <th></th>\n",
              "      <th>inspection_id</th>\n",
              "      <th>dba_name</th>\n",
              "      <th>aka_name</th>\n",
              "      <th>license_</th>\n",
              "      <th>facility_type</th>\n",
              "      <th>risk</th>\n",
              "      <th>address</th>\n",
              "      <th>city</th>\n",
              "      <th>state</th>\n",
              "      <th>zip</th>\n",
              "      <th>inspection_date</th>\n",
              "      <th>inspection_type</th>\n",
              "      <th>results</th>\n",
              "      <th>latitude</th>\n",
              "      <th>longitude</th>\n",
              "      <th>location</th>\n",
              "      <th>violations</th>\n",
              "    </tr>\n",
              "  </thead>\n",
              "  <tbody>\n",
              "    <tr>\n",
              "      <th>0</th>\n",
              "      <td>2568436</td>\n",
              "      <td>SCHWAB REHAB HOSPITAL&amp;CARE NET</td>\n",
              "      <td>SCHWAB REHAB HOSPITAL&amp;CARE NET</td>\n",
              "      <td>2205586</td>\n",
              "      <td>Hospital</td>\n",
              "      <td>Risk 1 (High)</td>\n",
              "      <td>1401 S CALIFORNIA AVE</td>\n",
              "      <td>CHICAGO</td>\n",
              "      <td>IL</td>\n",
              "      <td>60608</td>\n",
              "      <td>2022-12-13T00:00:00.000</td>\n",
              "      <td>Canvass</td>\n",
              "      <td>Pass</td>\n",
              "      <td>NaN</td>\n",
              "      <td>NaN</td>\n",
              "      <td>NaN</td>\n",
              "      <td>NaN</td>\n",
              "    </tr>\n",
              "    <tr>\n",
              "      <th>1</th>\n",
              "      <td>2567065</td>\n",
              "      <td>PARK MANOR</td>\n",
              "      <td>PARK MANOR ELEMENTARY</td>\n",
              "      <td>24841</td>\n",
              "      <td>School</td>\n",
              "      <td>Risk 1 (High)</td>\n",
              "      <td>7037 S Rhodes (532E) AVE</td>\n",
              "      <td>CHICAGO</td>\n",
              "      <td>IL</td>\n",
              "      <td>60637</td>\n",
              "      <td>2022-11-15T00:00:00.000</td>\n",
              "      <td>Canvass</td>\n",
              "      <td>Pass</td>\n",
              "      <td>NaN</td>\n",
              "      <td>NaN</td>\n",
              "      <td>NaN</td>\n",
              "      <td>NaN</td>\n",
              "    </tr>\n",
              "    <tr>\n",
              "      <th>2</th>\n",
              "      <td>2564901</td>\n",
              "      <td>CHEEZE AND THANK YOU</td>\n",
              "      <td>CHEEZE AND THANK YOU</td>\n",
              "      <td>2872888</td>\n",
              "      <td>NaN</td>\n",
              "      <td>All</td>\n",
              "      <td>2046 E GRAND AVE</td>\n",
              "      <td>NaN</td>\n",
              "      <td>IL</td>\n",
              "      <td>NaN</td>\n",
              "      <td>2022-10-06T00:00:00.000</td>\n",
              "      <td>License</td>\n",
              "      <td>Not Ready</td>\n",
              "      <td>NaN</td>\n",
              "      <td>NaN</td>\n",
              "      <td>NaN</td>\n",
              "      <td>NaN</td>\n",
              "    </tr>\n",
              "    <tr>\n",
              "      <th>3</th>\n",
              "      <td>2561538</td>\n",
              "      <td>PACINO'S RC, LLC</td>\n",
              "      <td>PACINOS</td>\n",
              "      <td>2683667</td>\n",
              "      <td>Restaurant</td>\n",
              "      <td>Risk 1 (High)</td>\n",
              "      <td>1010 S DELANO CT</td>\n",
              "      <td>CHICAGO</td>\n",
              "      <td>IL</td>\n",
              "      <td>60605</td>\n",
              "      <td>2022-08-01T00:00:00.000</td>\n",
              "      <td>Canvass</td>\n",
              "      <td>No Entry</td>\n",
              "      <td>NaN</td>\n",
              "      <td>NaN</td>\n",
              "      <td>NaN</td>\n",
              "      <td>NaN</td>\n",
              "    </tr>\n",
              "    <tr>\n",
              "      <th>4</th>\n",
              "      <td>2555843</td>\n",
              "      <td>MC DONALD'S 6039</td>\n",
              "      <td>MC DONALD'S</td>\n",
              "      <td>2341076</td>\n",
              "      <td>Restaurant</td>\n",
              "      <td>Risk 2 (Medium)</td>\n",
              "      <td>5656 W IRVING PARK RD</td>\n",
              "      <td>CHICAGO</td>\n",
              "      <td>IL</td>\n",
              "      <td>60634</td>\n",
              "      <td>2022-05-16T00:00:00.000</td>\n",
              "      <td>Canvass</td>\n",
              "      <td>Pass</td>\n",
              "      <td>41.95326311074034</td>\n",
              "      <td>-87.76931122260137</td>\n",
              "      <td>{'latitude': '41.95326311074034', 'longitude':...</td>\n",
              "      <td>NaN</td>\n",
              "    </tr>\n",
              "  </tbody>\n",
              "</table>\n",
              "</div>\n",
              "      <button class=\"colab-df-convert\" onclick=\"convertToInteractive('df-0fb76277-43d4-468a-a667-a81ad16cd056')\"\n",
              "              title=\"Convert this dataframe to an interactive table.\"\n",
              "              style=\"display:none;\">\n",
              "        \n",
              "  <svg xmlns=\"http://www.w3.org/2000/svg\" height=\"24px\"viewBox=\"0 0 24 24\"\n",
              "       width=\"24px\">\n",
              "    <path d=\"M0 0h24v24H0V0z\" fill=\"none\"/>\n",
              "    <path d=\"M18.56 5.44l.94 2.06.94-2.06 2.06-.94-2.06-.94-.94-2.06-.94 2.06-2.06.94zm-11 1L8.5 8.5l.94-2.06 2.06-.94-2.06-.94L8.5 2.5l-.94 2.06-2.06.94zm10 10l.94 2.06.94-2.06 2.06-.94-2.06-.94-.94-2.06-.94 2.06-2.06.94z\"/><path d=\"M17.41 7.96l-1.37-1.37c-.4-.4-.92-.59-1.43-.59-.52 0-1.04.2-1.43.59L10.3 9.45l-7.72 7.72c-.78.78-.78 2.05 0 2.83L4 21.41c.39.39.9.59 1.41.59.51 0 1.02-.2 1.41-.59l7.78-7.78 2.81-2.81c.8-.78.8-2.07 0-2.86zM5.41 20L4 18.59l7.72-7.72 1.47 1.35L5.41 20z\"/>\n",
              "  </svg>\n",
              "      </button>\n",
              "      \n",
              "  <style>\n",
              "    .colab-df-container {\n",
              "      display:flex;\n",
              "      flex-wrap:wrap;\n",
              "      gap: 12px;\n",
              "    }\n",
              "\n",
              "    .colab-df-convert {\n",
              "      background-color: #E8F0FE;\n",
              "      border: none;\n",
              "      border-radius: 50%;\n",
              "      cursor: pointer;\n",
              "      display: none;\n",
              "      fill: #1967D2;\n",
              "      height: 32px;\n",
              "      padding: 0 0 0 0;\n",
              "      width: 32px;\n",
              "    }\n",
              "\n",
              "    .colab-df-convert:hover {\n",
              "      background-color: #E2EBFA;\n",
              "      box-shadow: 0px 1px 2px rgba(60, 64, 67, 0.3), 0px 1px 3px 1px rgba(60, 64, 67, 0.15);\n",
              "      fill: #174EA6;\n",
              "    }\n",
              "\n",
              "    [theme=dark] .colab-df-convert {\n",
              "      background-color: #3B4455;\n",
              "      fill: #D2E3FC;\n",
              "    }\n",
              "\n",
              "    [theme=dark] .colab-df-convert:hover {\n",
              "      background-color: #434B5C;\n",
              "      box-shadow: 0px 1px 3px 1px rgba(0, 0, 0, 0.15);\n",
              "      filter: drop-shadow(0px 1px 2px rgba(0, 0, 0, 0.3));\n",
              "      fill: #FFFFFF;\n",
              "    }\n",
              "  </style>\n",
              "\n",
              "      <script>\n",
              "        const buttonEl =\n",
              "          document.querySelector('#df-0fb76277-43d4-468a-a667-a81ad16cd056 button.colab-df-convert');\n",
              "        buttonEl.style.display =\n",
              "          google.colab.kernel.accessAllowed ? 'block' : 'none';\n",
              "\n",
              "        async function convertToInteractive(key) {\n",
              "          const element = document.querySelector('#df-0fb76277-43d4-468a-a667-a81ad16cd056');\n",
              "          const dataTable =\n",
              "            await google.colab.kernel.invokeFunction('convertToInteractive',\n",
              "                                                     [key], {});\n",
              "          if (!dataTable) return;\n",
              "\n",
              "          const docLinkHtml = 'Like what you see? Visit the ' +\n",
              "            '<a target=\"_blank\" href=https://colab.research.google.com/notebooks/data_table.ipynb>data table notebook</a>'\n",
              "            + ' to learn more about interactive tables.';\n",
              "          element.innerHTML = '';\n",
              "          dataTable['output_type'] = 'display_data';\n",
              "          await google.colab.output.renderOutput(dataTable, element);\n",
              "          const docLink = document.createElement('div');\n",
              "          docLink.innerHTML = docLinkHtml;\n",
              "          element.appendChild(docLink);\n",
              "        }\n",
              "      </script>\n",
              "    </div>\n",
              "  </div>\n",
              "  "
            ]
          },
          "metadata": {},
          "execution_count": 42
        }
      ]
    },
    {
      "cell_type": "markdown",
      "source": [
        "\n",
        "faltantes: Esta función imprime los valores faltantes de cada variable con la que contamos en el conjunto de datos de inspecciones."
      ],
      "metadata": {
        "id": "WzQEmNC-TTBb"
      }
    },
    {
      "cell_type": "code",
      "source": [
        "def valores_faltantes(df):\n",
        "  \n",
        "  faltantes = df.isnull().sum()\n",
        "\n",
        "  return faltantes"
      ],
      "metadata": {
        "id": "xKD_PGsiJtty"
      },
      "execution_count": null,
      "outputs": []
    },
    {
      "cell_type": "code",
      "source": [
        "valores_faltantes(nuevo_df)"
      ],
      "metadata": {
        "colab": {
          "base_uri": "https://localhost:8080/"
        },
        "id": "NfSj7ygKJtwU",
        "outputId": "cb7171c8-b8db-4794-8415-bfddef6eb3d5"
      },
      "execution_count": null,
      "outputs": [
        {
          "output_type": "execute_result",
          "data": {
            "text/plain": [
              "inspection_id        0\n",
              "dba_name             0\n",
              "aka_name             6\n",
              "license_             0\n",
              "facility_type       14\n",
              "risk                 1\n",
              "address              0\n",
              "city                 3\n",
              "state                0\n",
              "zip                  2\n",
              "inspection_date      0\n",
              "inspection_type      0\n",
              "results              0\n",
              "latitude            17\n",
              "longitude           17\n",
              "location            17\n",
              "violations         505\n",
              "dtype: int64"
            ]
          },
          "metadata": {},
          "execution_count": 44
        }
      ]
    },
    {
      "cell_type": "markdown",
      "source": [
        "elimina_faltantes_latitud_longitud: Esta función elimina registros que tienen valores nulos o vacíos en las columnas latitude o longitude. Recibe como parámetros la lista de columnas a eliminar por tener faltantes y el data frame al que pertenecen."
      ],
      "metadata": {
        "id": "o45WWFQ2TV_l"
      }
    },
    {
      "cell_type": "code",
      "source": [
        "\n",
        "def elimina_faltantes_latitud_longitud(df, columns):\n",
        "    df = df.dropna(subset=columns)\n",
        "    return df\n"
      ],
      "metadata": {
        "id": "iYIWROPhJt1g"
      },
      "execution_count": null,
      "outputs": []
    },
    {
      "cell_type": "code",
      "source": [
        "no_nulos_lat_long = elimina_faltantes_latitud_longitud(nuevo_df,['latitude','longitude'])\n",
        "no_nulos_lat_long.isna().sum()"
      ],
      "metadata": {
        "colab": {
          "base_uri": "https://localhost:8080/"
        },
        "id": "Os_fW3XRJt3m",
        "outputId": "889748cd-cca5-4c82-ddee-a2e171d0c295"
      },
      "execution_count": null,
      "outputs": [
        {
          "output_type": "execute_result",
          "data": {
            "text/plain": [
              "inspection_id        0\n",
              "dba_name             0\n",
              "aka_name             6\n",
              "license_             0\n",
              "facility_type       13\n",
              "risk                 1\n",
              "address              0\n",
              "city                 2\n",
              "state                0\n",
              "zip                  1\n",
              "inspection_date      0\n",
              "inspection_type      0\n",
              "results              0\n",
              "latitude             0\n",
              "longitude            0\n",
              "location             0\n",
              "violations         494\n",
              "dtype: int64"
            ]
          },
          "metadata": {},
          "execution_count": 48
        }
      ]
    },
    {
      "cell_type": "markdown",
      "source": [
        "imputar_faltantes: Esta función recibe como parámetros la columna que hay que imputar, el valor a imputar en caso de faltantes y el data frame al que pertenece la columna a imputar.\n",
        " \n",
        "Debe regresar el data frame con los datos imputados.\n",
        " \n",
        "Imputarás las columnas: license_,  zip,  state, facility_type, risk. La imputación se realizará utilizando los valores de la moda para cada una de las columnas.\n",
        " "
      ],
      "metadata": {
        "id": "0y8ki5cqTZCq"
      }
    },
    {
      "cell_type": "code",
      "source": [
        "def imputar_valores(df, col):\n",
        "    df[col].fillna(df[col].mode()[0], inplace=True)\n",
        "    return df"
      ],
      "metadata": {
        "id": "a_rep265Jt8P"
      },
      "execution_count": null,
      "outputs": []
    },
    {
      "cell_type": "code",
      "source": [
        "imputar_valores(nuevo_df, 'license_')\n",
        "imputar_valores(nuevo_df, 'zip')\n",
        "imputar_valores(nuevo_df, 'state')\n",
        "imputar_valores(nuevo_df, 'facility_type')\n",
        "imputar_valores(nuevo_df, 'risk')"
      ],
      "metadata": {
        "colab": {
          "base_uri": "https://localhost:8080/",
          "height": 904
        },
        "id": "O9c144Y4LgEw",
        "outputId": "280b576a-ae20-4e8c-e8c4-eaf70b24bc70"
      },
      "execution_count": null,
      "outputs": [
        {
          "output_type": "execute_result",
          "data": {
            "text/plain": [
              "    inspection_id                        dba_name  \\\n",
              "0         2568436  SCHWAB REHAB HOSPITAL&CARE NET   \n",
              "1         2567065                      PARK MANOR   \n",
              "2         2564901            CHEEZE AND THANK YOU   \n",
              "3         2561538                PACINO'S RC, LLC   \n",
              "4         2555843                MC DONALD'S 6039   \n",
              "..            ...                             ...   \n",
              "995       2568538               CMM FOOD SERVICES   \n",
              "996       2567637      CONN'S CAFE & CATERING INC   \n",
              "997       2570186                 PATIO BEEF, INC   \n",
              "998       2567528          Starbucks Coffee#48855   \n",
              "999       2569967                        PORKCHOP   \n",
              "\n",
              "                           aka_name license_ facility_type             risk  \\\n",
              "0    SCHWAB REHAB HOSPITAL&CARE NET  2205586      Hospital    Risk 1 (High)   \n",
              "1             PARK MANOR ELEMENTARY    24841        School    Risk 1 (High)   \n",
              "2              CHEEZE AND THANK YOU  2872888    Restaurant              All   \n",
              "3                           PACINOS  2683667    Restaurant    Risk 1 (High)   \n",
              "4                       MC DONALD'S  2341076    Restaurant  Risk 2 (Medium)   \n",
              "..                              ...      ...           ...              ...   \n",
              "995                           FOODA  2622051    Restaurant    Risk 1 (High)   \n",
              "996      CONN'S CAFE & CATERING INC    33554    Restaurant    Risk 1 (High)   \n",
              "997                      PATIO BEEF  2279587    Restaurant    Risk 1 (High)   \n",
              "998                STARBUCKS COFFEE  2616204    Restaurant  Risk 2 (Medium)   \n",
              "999                        PORKCHOP  2767186    Restaurant    Risk 1 (High)   \n",
              "\n",
              "                       address     city state    zip          inspection_date  \\\n",
              "0       1401 S CALIFORNIA AVE   CHICAGO    IL  60608  2022-12-13T00:00:00.000   \n",
              "1    7037 S Rhodes (532E) AVE   CHICAGO    IL  60637  2022-11-15T00:00:00.000   \n",
              "2            2046 E GRAND AVE       NaN    IL  60618  2022-10-06T00:00:00.000   \n",
              "3            1010 S DELANO CT   CHICAGO    IL  60605  2022-08-01T00:00:00.000   \n",
              "4       5656 W IRVING PARK RD   CHICAGO    IL  60634  2022-05-16T00:00:00.000   \n",
              "..                         ...      ...   ...    ...                      ...   \n",
              "995         6301 S HALSTED ST   CHICAGO    IL  60621  2022-12-14T00:00:00.000   \n",
              "996          1535 W DEVON AVE   CHICAGO    IL  60660  2022-11-28T00:00:00.000   \n",
              "997           6022 N BROADWAY   CHICAGO    IL  60660  2023-01-25T00:00:00.000   \n",
              "998         4155 N CICERO AVE   CHICAGO    IL  60641  2022-11-25T00:00:00.000   \n",
              "999     1132-1138 W GRAND AVE   CHICAGO    IL  60642  2023-01-20T00:00:00.000   \n",
              "\n",
              "           inspection_type          results            latitude  \\\n",
              "0                  Canvass             Pass                 NaN   \n",
              "1                  Canvass             Pass                 NaN   \n",
              "2                  License        Not Ready                 NaN   \n",
              "3                  Canvass         No Entry                 NaN   \n",
              "4                  Canvass             Pass   41.95326311074034   \n",
              "..                     ...              ...                 ...   \n",
              "995  Canvass Re-Inspection             Fail  41.779661336898904   \n",
              "996                Canvass  Out of Business  41.997985218648225   \n",
              "997                Canvass             Pass   41.99164923315811   \n",
              "998                Canvass             Pass    41.9568024778031   \n",
              "999         Non-Inspection         No Entry   41.89120657079326   \n",
              "\n",
              "              longitude                                           location  \\\n",
              "0                   NaN                                                NaN   \n",
              "1                   NaN                                                NaN   \n",
              "2                   NaN                                                NaN   \n",
              "3                   NaN                                                NaN   \n",
              "4    -87.76931122260137  {'latitude': '41.95326311074034', 'longitude':...   \n",
              "..                  ...                                                ...   \n",
              "995  -87.64463773881644  {'latitude': '41.779661336898904', 'longitude'...   \n",
              "996  -87.66910712039837  {'latitude': '41.997985218648225', 'longitude'...   \n",
              "997  -87.66046438723393  {'latitude': '41.99164923315811', 'longitude':...   \n",
              "998  -87.74725863483394  {'latitude': '41.9568024778031', 'longitude': ...   \n",
              "999  -87.65587218834783  {'latitude': '41.89120657079326', 'longitude':...   \n",
              "\n",
              "                                            violations  \n",
              "0                                                  NaN  \n",
              "1                                                  NaN  \n",
              "2                                                  NaN  \n",
              "3                                                  NaN  \n",
              "4                                                  NaN  \n",
              "..                                                 ...  \n",
              "995  59. PREVIOUS PRIORITY FOUNDATION VIOLATION COR...  \n",
              "996                                                NaN  \n",
              "997                                                NaN  \n",
              "998  49. NON-FOOD/FOOD CONTACT SURFACES CLEAN - Com...  \n",
              "999                                                NaN  \n",
              "\n",
              "[1000 rows x 17 columns]"
            ],
            "text/html": [
              "\n",
              "  <div id=\"df-be3072e0-d4fc-4bb5-93ac-93c18dd5d9dd\">\n",
              "    <div class=\"colab-df-container\">\n",
              "      <div>\n",
              "<style scoped>\n",
              "    .dataframe tbody tr th:only-of-type {\n",
              "        vertical-align: middle;\n",
              "    }\n",
              "\n",
              "    .dataframe tbody tr th {\n",
              "        vertical-align: top;\n",
              "    }\n",
              "\n",
              "    .dataframe thead th {\n",
              "        text-align: right;\n",
              "    }\n",
              "</style>\n",
              "<table border=\"1\" class=\"dataframe\">\n",
              "  <thead>\n",
              "    <tr style=\"text-align: right;\">\n",
              "      <th></th>\n",
              "      <th>inspection_id</th>\n",
              "      <th>dba_name</th>\n",
              "      <th>aka_name</th>\n",
              "      <th>license_</th>\n",
              "      <th>facility_type</th>\n",
              "      <th>risk</th>\n",
              "      <th>address</th>\n",
              "      <th>city</th>\n",
              "      <th>state</th>\n",
              "      <th>zip</th>\n",
              "      <th>inspection_date</th>\n",
              "      <th>inspection_type</th>\n",
              "      <th>results</th>\n",
              "      <th>latitude</th>\n",
              "      <th>longitude</th>\n",
              "      <th>location</th>\n",
              "      <th>violations</th>\n",
              "    </tr>\n",
              "  </thead>\n",
              "  <tbody>\n",
              "    <tr>\n",
              "      <th>0</th>\n",
              "      <td>2568436</td>\n",
              "      <td>SCHWAB REHAB HOSPITAL&amp;CARE NET</td>\n",
              "      <td>SCHWAB REHAB HOSPITAL&amp;CARE NET</td>\n",
              "      <td>2205586</td>\n",
              "      <td>Hospital</td>\n",
              "      <td>Risk 1 (High)</td>\n",
              "      <td>1401 S CALIFORNIA AVE</td>\n",
              "      <td>CHICAGO</td>\n",
              "      <td>IL</td>\n",
              "      <td>60608</td>\n",
              "      <td>2022-12-13T00:00:00.000</td>\n",
              "      <td>Canvass</td>\n",
              "      <td>Pass</td>\n",
              "      <td>NaN</td>\n",
              "      <td>NaN</td>\n",
              "      <td>NaN</td>\n",
              "      <td>NaN</td>\n",
              "    </tr>\n",
              "    <tr>\n",
              "      <th>1</th>\n",
              "      <td>2567065</td>\n",
              "      <td>PARK MANOR</td>\n",
              "      <td>PARK MANOR ELEMENTARY</td>\n",
              "      <td>24841</td>\n",
              "      <td>School</td>\n",
              "      <td>Risk 1 (High)</td>\n",
              "      <td>7037 S Rhodes (532E) AVE</td>\n",
              "      <td>CHICAGO</td>\n",
              "      <td>IL</td>\n",
              "      <td>60637</td>\n",
              "      <td>2022-11-15T00:00:00.000</td>\n",
              "      <td>Canvass</td>\n",
              "      <td>Pass</td>\n",
              "      <td>NaN</td>\n",
              "      <td>NaN</td>\n",
              "      <td>NaN</td>\n",
              "      <td>NaN</td>\n",
              "    </tr>\n",
              "    <tr>\n",
              "      <th>2</th>\n",
              "      <td>2564901</td>\n",
              "      <td>CHEEZE AND THANK YOU</td>\n",
              "      <td>CHEEZE AND THANK YOU</td>\n",
              "      <td>2872888</td>\n",
              "      <td>Restaurant</td>\n",
              "      <td>All</td>\n",
              "      <td>2046 E GRAND AVE</td>\n",
              "      <td>NaN</td>\n",
              "      <td>IL</td>\n",
              "      <td>60618</td>\n",
              "      <td>2022-10-06T00:00:00.000</td>\n",
              "      <td>License</td>\n",
              "      <td>Not Ready</td>\n",
              "      <td>NaN</td>\n",
              "      <td>NaN</td>\n",
              "      <td>NaN</td>\n",
              "      <td>NaN</td>\n",
              "    </tr>\n",
              "    <tr>\n",
              "      <th>3</th>\n",
              "      <td>2561538</td>\n",
              "      <td>PACINO'S RC, LLC</td>\n",
              "      <td>PACINOS</td>\n",
              "      <td>2683667</td>\n",
              "      <td>Restaurant</td>\n",
              "      <td>Risk 1 (High)</td>\n",
              "      <td>1010 S DELANO CT</td>\n",
              "      <td>CHICAGO</td>\n",
              "      <td>IL</td>\n",
              "      <td>60605</td>\n",
              "      <td>2022-08-01T00:00:00.000</td>\n",
              "      <td>Canvass</td>\n",
              "      <td>No Entry</td>\n",
              "      <td>NaN</td>\n",
              "      <td>NaN</td>\n",
              "      <td>NaN</td>\n",
              "      <td>NaN</td>\n",
              "    </tr>\n",
              "    <tr>\n",
              "      <th>4</th>\n",
              "      <td>2555843</td>\n",
              "      <td>MC DONALD'S 6039</td>\n",
              "      <td>MC DONALD'S</td>\n",
              "      <td>2341076</td>\n",
              "      <td>Restaurant</td>\n",
              "      <td>Risk 2 (Medium)</td>\n",
              "      <td>5656 W IRVING PARK RD</td>\n",
              "      <td>CHICAGO</td>\n",
              "      <td>IL</td>\n",
              "      <td>60634</td>\n",
              "      <td>2022-05-16T00:00:00.000</td>\n",
              "      <td>Canvass</td>\n",
              "      <td>Pass</td>\n",
              "      <td>41.95326311074034</td>\n",
              "      <td>-87.76931122260137</td>\n",
              "      <td>{'latitude': '41.95326311074034', 'longitude':...</td>\n",
              "      <td>NaN</td>\n",
              "    </tr>\n",
              "    <tr>\n",
              "      <th>...</th>\n",
              "      <td>...</td>\n",
              "      <td>...</td>\n",
              "      <td>...</td>\n",
              "      <td>...</td>\n",
              "      <td>...</td>\n",
              "      <td>...</td>\n",
              "      <td>...</td>\n",
              "      <td>...</td>\n",
              "      <td>...</td>\n",
              "      <td>...</td>\n",
              "      <td>...</td>\n",
              "      <td>...</td>\n",
              "      <td>...</td>\n",
              "      <td>...</td>\n",
              "      <td>...</td>\n",
              "      <td>...</td>\n",
              "      <td>...</td>\n",
              "    </tr>\n",
              "    <tr>\n",
              "      <th>995</th>\n",
              "      <td>2568538</td>\n",
              "      <td>CMM FOOD SERVICES</td>\n",
              "      <td>FOODA</td>\n",
              "      <td>2622051</td>\n",
              "      <td>Restaurant</td>\n",
              "      <td>Risk 1 (High)</td>\n",
              "      <td>6301 S HALSTED ST</td>\n",
              "      <td>CHICAGO</td>\n",
              "      <td>IL</td>\n",
              "      <td>60621</td>\n",
              "      <td>2022-12-14T00:00:00.000</td>\n",
              "      <td>Canvass Re-Inspection</td>\n",
              "      <td>Fail</td>\n",
              "      <td>41.779661336898904</td>\n",
              "      <td>-87.64463773881644</td>\n",
              "      <td>{'latitude': '41.779661336898904', 'longitude'...</td>\n",
              "      <td>59. PREVIOUS PRIORITY FOUNDATION VIOLATION COR...</td>\n",
              "    </tr>\n",
              "    <tr>\n",
              "      <th>996</th>\n",
              "      <td>2567637</td>\n",
              "      <td>CONN'S CAFE &amp; CATERING INC</td>\n",
              "      <td>CONN'S CAFE &amp; CATERING INC</td>\n",
              "      <td>33554</td>\n",
              "      <td>Restaurant</td>\n",
              "      <td>Risk 1 (High)</td>\n",
              "      <td>1535 W DEVON AVE</td>\n",
              "      <td>CHICAGO</td>\n",
              "      <td>IL</td>\n",
              "      <td>60660</td>\n",
              "      <td>2022-11-28T00:00:00.000</td>\n",
              "      <td>Canvass</td>\n",
              "      <td>Out of Business</td>\n",
              "      <td>41.997985218648225</td>\n",
              "      <td>-87.66910712039837</td>\n",
              "      <td>{'latitude': '41.997985218648225', 'longitude'...</td>\n",
              "      <td>NaN</td>\n",
              "    </tr>\n",
              "    <tr>\n",
              "      <th>997</th>\n",
              "      <td>2570186</td>\n",
              "      <td>PATIO BEEF, INC</td>\n",
              "      <td>PATIO BEEF</td>\n",
              "      <td>2279587</td>\n",
              "      <td>Restaurant</td>\n",
              "      <td>Risk 1 (High)</td>\n",
              "      <td>6022 N BROADWAY</td>\n",
              "      <td>CHICAGO</td>\n",
              "      <td>IL</td>\n",
              "      <td>60660</td>\n",
              "      <td>2023-01-25T00:00:00.000</td>\n",
              "      <td>Canvass</td>\n",
              "      <td>Pass</td>\n",
              "      <td>41.99164923315811</td>\n",
              "      <td>-87.66046438723393</td>\n",
              "      <td>{'latitude': '41.99164923315811', 'longitude':...</td>\n",
              "      <td>NaN</td>\n",
              "    </tr>\n",
              "    <tr>\n",
              "      <th>998</th>\n",
              "      <td>2567528</td>\n",
              "      <td>Starbucks Coffee#48855</td>\n",
              "      <td>STARBUCKS COFFEE</td>\n",
              "      <td>2616204</td>\n",
              "      <td>Restaurant</td>\n",
              "      <td>Risk 2 (Medium)</td>\n",
              "      <td>4155 N CICERO AVE</td>\n",
              "      <td>CHICAGO</td>\n",
              "      <td>IL</td>\n",
              "      <td>60641</td>\n",
              "      <td>2022-11-25T00:00:00.000</td>\n",
              "      <td>Canvass</td>\n",
              "      <td>Pass</td>\n",
              "      <td>41.9568024778031</td>\n",
              "      <td>-87.74725863483394</td>\n",
              "      <td>{'latitude': '41.9568024778031', 'longitude': ...</td>\n",
              "      <td>49. NON-FOOD/FOOD CONTACT SURFACES CLEAN - Com...</td>\n",
              "    </tr>\n",
              "    <tr>\n",
              "      <th>999</th>\n",
              "      <td>2569967</td>\n",
              "      <td>PORKCHOP</td>\n",
              "      <td>PORKCHOP</td>\n",
              "      <td>2767186</td>\n",
              "      <td>Restaurant</td>\n",
              "      <td>Risk 1 (High)</td>\n",
              "      <td>1132-1138 W GRAND AVE</td>\n",
              "      <td>CHICAGO</td>\n",
              "      <td>IL</td>\n",
              "      <td>60642</td>\n",
              "      <td>2023-01-20T00:00:00.000</td>\n",
              "      <td>Non-Inspection</td>\n",
              "      <td>No Entry</td>\n",
              "      <td>41.89120657079326</td>\n",
              "      <td>-87.65587218834783</td>\n",
              "      <td>{'latitude': '41.89120657079326', 'longitude':...</td>\n",
              "      <td>NaN</td>\n",
              "    </tr>\n",
              "  </tbody>\n",
              "</table>\n",
              "<p>1000 rows × 17 columns</p>\n",
              "</div>\n",
              "      <button class=\"colab-df-convert\" onclick=\"convertToInteractive('df-be3072e0-d4fc-4bb5-93ac-93c18dd5d9dd')\"\n",
              "              title=\"Convert this dataframe to an interactive table.\"\n",
              "              style=\"display:none;\">\n",
              "        \n",
              "  <svg xmlns=\"http://www.w3.org/2000/svg\" height=\"24px\"viewBox=\"0 0 24 24\"\n",
              "       width=\"24px\">\n",
              "    <path d=\"M0 0h24v24H0V0z\" fill=\"none\"/>\n",
              "    <path d=\"M18.56 5.44l.94 2.06.94-2.06 2.06-.94-2.06-.94-.94-2.06-.94 2.06-2.06.94zm-11 1L8.5 8.5l.94-2.06 2.06-.94-2.06-.94L8.5 2.5l-.94 2.06-2.06.94zm10 10l.94 2.06.94-2.06 2.06-.94-2.06-.94-.94-2.06-.94 2.06-2.06.94z\"/><path d=\"M17.41 7.96l-1.37-1.37c-.4-.4-.92-.59-1.43-.59-.52 0-1.04.2-1.43.59L10.3 9.45l-7.72 7.72c-.78.78-.78 2.05 0 2.83L4 21.41c.39.39.9.59 1.41.59.51 0 1.02-.2 1.41-.59l7.78-7.78 2.81-2.81c.8-.78.8-2.07 0-2.86zM5.41 20L4 18.59l7.72-7.72 1.47 1.35L5.41 20z\"/>\n",
              "  </svg>\n",
              "      </button>\n",
              "      \n",
              "  <style>\n",
              "    .colab-df-container {\n",
              "      display:flex;\n",
              "      flex-wrap:wrap;\n",
              "      gap: 12px;\n",
              "    }\n",
              "\n",
              "    .colab-df-convert {\n",
              "      background-color: #E8F0FE;\n",
              "      border: none;\n",
              "      border-radius: 50%;\n",
              "      cursor: pointer;\n",
              "      display: none;\n",
              "      fill: #1967D2;\n",
              "      height: 32px;\n",
              "      padding: 0 0 0 0;\n",
              "      width: 32px;\n",
              "    }\n",
              "\n",
              "    .colab-df-convert:hover {\n",
              "      background-color: #E2EBFA;\n",
              "      box-shadow: 0px 1px 2px rgba(60, 64, 67, 0.3), 0px 1px 3px 1px rgba(60, 64, 67, 0.15);\n",
              "      fill: #174EA6;\n",
              "    }\n",
              "\n",
              "    [theme=dark] .colab-df-convert {\n",
              "      background-color: #3B4455;\n",
              "      fill: #D2E3FC;\n",
              "    }\n",
              "\n",
              "    [theme=dark] .colab-df-convert:hover {\n",
              "      background-color: #434B5C;\n",
              "      box-shadow: 0px 1px 3px 1px rgba(0, 0, 0, 0.15);\n",
              "      filter: drop-shadow(0px 1px 2px rgba(0, 0, 0, 0.3));\n",
              "      fill: #FFFFFF;\n",
              "    }\n",
              "  </style>\n",
              "\n",
              "      <script>\n",
              "        const buttonEl =\n",
              "          document.querySelector('#df-be3072e0-d4fc-4bb5-93ac-93c18dd5d9dd button.colab-df-convert');\n",
              "        buttonEl.style.display =\n",
              "          google.colab.kernel.accessAllowed ? 'block' : 'none';\n",
              "\n",
              "        async function convertToInteractive(key) {\n",
              "          const element = document.querySelector('#df-be3072e0-d4fc-4bb5-93ac-93c18dd5d9dd');\n",
              "          const dataTable =\n",
              "            await google.colab.kernel.invokeFunction('convertToInteractive',\n",
              "                                                     [key], {});\n",
              "          if (!dataTable) return;\n",
              "\n",
              "          const docLinkHtml = 'Like what you see? Visit the ' +\n",
              "            '<a target=\"_blank\" href=https://colab.research.google.com/notebooks/data_table.ipynb>data table notebook</a>'\n",
              "            + ' to learn more about interactive tables.';\n",
              "          element.innerHTML = '';\n",
              "          dataTable['output_type'] = 'display_data';\n",
              "          await google.colab.output.renderOutput(dataTable, element);\n",
              "          const docLink = document.createElement('div');\n",
              "          docLink.innerHTML = docLinkHtml;\n",
              "          element.appendChild(docLink);\n",
              "        }\n",
              "      </script>\n",
              "    </div>\n",
              "  </div>\n",
              "  "
            ]
          },
          "metadata": {},
          "execution_count": 50
        }
      ]
    },
    {
      "cell_type": "code",
      "source": [
        "nuevo_df.isna().sum()"
      ],
      "metadata": {
        "colab": {
          "base_uri": "https://localhost:8080/"
        },
        "id": "rfCN6yBaLgHT",
        "outputId": "a0c18710-74f1-4afb-fc9b-4a6df3590d85"
      },
      "execution_count": null,
      "outputs": [
        {
          "output_type": "execute_result",
          "data": {
            "text/plain": [
              "inspection_id        0\n",
              "dba_name             0\n",
              "aka_name             6\n",
              "license_             0\n",
              "facility_type        0\n",
              "risk                 0\n",
              "address              0\n",
              "city                 3\n",
              "state                0\n",
              "zip                  0\n",
              "inspection_date      0\n",
              "inspection_type      0\n",
              "results              0\n",
              "latitude            17\n",
              "longitude           17\n",
              "location            17\n",
              "violations         505\n",
              "dtype: int64"
            ]
          },
          "metadata": {},
          "execution_count": 51
        }
      ]
    },
    {
      "cell_type": "markdown",
      "source": [
        "transformar_enteros: Esta función recibe como parámetros una lista de variables que se requieren transformar a valores enteros y el data frame al que pertenecen.\n",
        " \n",
        "Debe regresar el data frame con las columnas transformadas.\n",
        " \n",
        "Las variables que debes transformar a valores enteros son: inspection_id."
      ],
      "metadata": {
        "id": "yIxj1DuZTe-M"
      }
    },
    {
      "cell_type": "code",
      "source": [
        "def transformar_enteros(df, col):\n",
        "  df[col] = df[col].astype(int)\n",
        "  return df"
      ],
      "metadata": {
        "id": "T0oN9ZEELgMA"
      },
      "execution_count": null,
      "outputs": []
    },
    {
      "cell_type": "code",
      "source": [
        "enteros = transformar_enteros(nuevo_df,['inspection_id'])\n",
        "enteros.dtypes"
      ],
      "metadata": {
        "colab": {
          "base_uri": "https://localhost:8080/"
        },
        "id": "Ndf8h-dqLgOs",
        "outputId": "32114dd4-961b-46f5-d183-d3d7a4a1eae9"
      },
      "execution_count": null,
      "outputs": [
        {
          "output_type": "execute_result",
          "data": {
            "text/plain": [
              "inspection_id       int64\n",
              "dba_name           object\n",
              "aka_name           object\n",
              "license_           object\n",
              "facility_type      object\n",
              "risk               object\n",
              "address            object\n",
              "city               object\n",
              "state              object\n",
              "zip                object\n",
              "inspection_date    object\n",
              "inspection_type    object\n",
              "results            object\n",
              "latitude           object\n",
              "longitude          object\n",
              "location           object\n",
              "violations         object\n",
              "dtype: object"
            ]
          },
          "metadata": {},
          "execution_count": 53
        }
      ]
    },
    {
      "cell_type": "markdown",
      "source": [
        "transformar_flotantes: Esta función recibe como parámetros una lista de variables que se requieren transformar a valores flotantes y el data frame al que pertenecen.\n",
        "           \n",
        " Debe regresar el data frame con las columnas transformadas.\n",
        " \n",
        "Las variables que debes transformar a valores flotantes son: latitud, longitud."
      ],
      "metadata": {
        "id": "vKk7Kuu5TjjU"
      }
    },
    {
      "cell_type": "code",
      "source": [
        "def transformar_flotantes(df, cols):\n",
        "  df[cols] = df[cols].astype(float)\n",
        "  return df\n",
        "\n",
        "flotantes = transformar_flotantes(nuevo_df,['longitude','latitude'])\n",
        "flotantes.dtypes"
      ],
      "metadata": {
        "colab": {
          "base_uri": "https://localhost:8080/"
        },
        "id": "SPSCZYcSLgQ8",
        "outputId": "9ccaf25d-6e80-4557-f770-fa216ac00d35"
      },
      "execution_count": null,
      "outputs": [
        {
          "output_type": "execute_result",
          "data": {
            "text/plain": [
              "inspection_id               int64\n",
              "dba_name                   object\n",
              "aka_name                   object\n",
              "license_                   object\n",
              "facility_type              object\n",
              "risk                       object\n",
              "address                    object\n",
              "city                       object\n",
              "state                      object\n",
              "zip                        object\n",
              "inspection_date    datetime64[ns]\n",
              "inspection_type            object\n",
              "results                    object\n",
              "latitude                  float64\n",
              "longitude                 float64\n",
              "location                   object\n",
              "violations                 object\n",
              "dtype: object"
            ]
          },
          "metadata": {},
          "execution_count": 128
        }
      ]
    },
    {
      "cell_type": "markdown",
      "source": [
        "transformar_fechas: Esta función recibe como parámetro una lista de variables que se requieren convertir a fechas.\n",
        " \n",
        "Debe regresar el data frame con las columnas transformadas.\n",
        " \n",
        "Las variables que debes transformar a fechas son: inspection_date."
      ],
      "metadata": {
        "id": "LE_wPZYBTvt5"
      }
    },
    {
      "cell_type": "code",
      "source": [
        "def transformar_fechas(df, col):\n",
        "  df[col] =  df[col].astype('datetime64[ns]')\n",
        "  return df"
      ],
      "metadata": {
        "id": "ZLXd6mDJLgTq"
      },
      "execution_count": null,
      "outputs": []
    },
    {
      "cell_type": "code",
      "source": [
        "fecha = transformar_fechas(nuevo_df,['inspection_date'])\n",
        "fecha.dtypes"
      ],
      "metadata": {
        "colab": {
          "base_uri": "https://localhost:8080/"
        },
        "id": "gXoUHTfBLgWE",
        "outputId": "a42a0b3c-2959-457f-d282-bd84127d1577"
      },
      "execution_count": null,
      "outputs": [
        {
          "output_type": "execute_result",
          "data": {
            "text/plain": [
              "inspection_id               int64\n",
              "dba_name                   object\n",
              "aka_name                   object\n",
              "license_                   object\n",
              "facility_type              object\n",
              "risk                       object\n",
              "address                    object\n",
              "city                       object\n",
              "state                      object\n",
              "zip                        object\n",
              "inspection_date    datetime64[ns]\n",
              "inspection_type            object\n",
              "results                    object\n",
              "latitude                   object\n",
              "longitude                  object\n",
              "location                   object\n",
              "violations                 object\n",
              "dtype: object"
            ]
          },
          "metadata": {},
          "execution_count": 116
        }
      ]
    },
    {
      "cell_type": "markdown",
      "source": [
        "data_profiling_string: Esta función recibe como parámetros una lista de variables categóricas a las que se les hará un data profiling, y el data frame al que pertenecen.\n",
        " \n",
        "El Data profiling a realizar para cada columna consiste en obtener el número de valores diferentes por cada variable, el porcentaje de valores únicos y la moda.\n",
        "           \n",
        "            Debe regresar un data frame con estas métricas por variable categórica.\n",
        " "
      ],
      "metadata": {
        "id": "7OmolFnLTy81"
      }
    },
    {
      "cell_type": "code",
      "source": [
        "def data_profiling_string(df, cols):\n",
        "    \n",
        "    result = pd.DataFrame(columns=['Columna', 'Tipo', 'Valores Diferentes', '% Valores Únicos', 'Moda'])\n",
        "    \n",
        "    for col in cols:\n",
        "        nunique = df[col].nunique()\n",
        "        unique_percent = round(nunique / df[col].count(), 2) * 100\n",
        "        mode = df[col].mode()[0]\n",
        "        result = pd.concat([result, pd.DataFrame({'Columna': col, 'Tipo': df[col].dtype.name, \n",
        "                                                  'Valores Diferentes': nunique,\n",
        "                                                  '% Valores Únicos': unique_percent, 'Moda': mode}, index=[0])])\n",
        "    \n",
        "    return result"
      ],
      "metadata": {
        "id": "jMtYfOx5Jt__"
      },
      "execution_count": null,
      "outputs": []
    },
    {
      "cell_type": "code",
      "source": [
        "data_profiling_string(nuevo_df,['facility_type', 'state', 'city'])"
      ],
      "metadata": {
        "colab": {
          "base_uri": "https://localhost:8080/",
          "height": 143
        },
        "id": "eqdq4-43JuCN",
        "outputId": "ae46c5e0-cff2-423a-e6ec-51f8f35f979c"
      },
      "execution_count": null,
      "outputs": [
        {
          "output_type": "execute_result",
          "data": {
            "text/plain": [
              "         Columna    Tipo Valores Diferentes  % Valores Únicos        Moda\n",
              "0  facility_type  object                 33               3.0  Restaurant\n",
              "0          state  object                  2               0.0          IL\n",
              "0           city  object                  5               1.0     CHICAGO"
            ],
            "text/html": [
              "\n",
              "  <div id=\"df-7c498146-3fa0-4c28-9276-f33d0cccfda7\">\n",
              "    <div class=\"colab-df-container\">\n",
              "      <div>\n",
              "<style scoped>\n",
              "    .dataframe tbody tr th:only-of-type {\n",
              "        vertical-align: middle;\n",
              "    }\n",
              "\n",
              "    .dataframe tbody tr th {\n",
              "        vertical-align: top;\n",
              "    }\n",
              "\n",
              "    .dataframe thead th {\n",
              "        text-align: right;\n",
              "    }\n",
              "</style>\n",
              "<table border=\"1\" class=\"dataframe\">\n",
              "  <thead>\n",
              "    <tr style=\"text-align: right;\">\n",
              "      <th></th>\n",
              "      <th>Columna</th>\n",
              "      <th>Tipo</th>\n",
              "      <th>Valores Diferentes</th>\n",
              "      <th>% Valores Únicos</th>\n",
              "      <th>Moda</th>\n",
              "    </tr>\n",
              "  </thead>\n",
              "  <tbody>\n",
              "    <tr>\n",
              "      <th>0</th>\n",
              "      <td>facility_type</td>\n",
              "      <td>object</td>\n",
              "      <td>33</td>\n",
              "      <td>3.0</td>\n",
              "      <td>Restaurant</td>\n",
              "    </tr>\n",
              "    <tr>\n",
              "      <th>0</th>\n",
              "      <td>state</td>\n",
              "      <td>object</td>\n",
              "      <td>2</td>\n",
              "      <td>0.0</td>\n",
              "      <td>IL</td>\n",
              "    </tr>\n",
              "    <tr>\n",
              "      <th>0</th>\n",
              "      <td>city</td>\n",
              "      <td>object</td>\n",
              "      <td>5</td>\n",
              "      <td>1.0</td>\n",
              "      <td>CHICAGO</td>\n",
              "    </tr>\n",
              "  </tbody>\n",
              "</table>\n",
              "</div>\n",
              "      <button class=\"colab-df-convert\" onclick=\"convertToInteractive('df-7c498146-3fa0-4c28-9276-f33d0cccfda7')\"\n",
              "              title=\"Convert this dataframe to an interactive table.\"\n",
              "              style=\"display:none;\">\n",
              "        \n",
              "  <svg xmlns=\"http://www.w3.org/2000/svg\" height=\"24px\"viewBox=\"0 0 24 24\"\n",
              "       width=\"24px\">\n",
              "    <path d=\"M0 0h24v24H0V0z\" fill=\"none\"/>\n",
              "    <path d=\"M18.56 5.44l.94 2.06.94-2.06 2.06-.94-2.06-.94-.94-2.06-.94 2.06-2.06.94zm-11 1L8.5 8.5l.94-2.06 2.06-.94-2.06-.94L8.5 2.5l-.94 2.06-2.06.94zm10 10l.94 2.06.94-2.06 2.06-.94-2.06-.94-.94-2.06-.94 2.06-2.06.94z\"/><path d=\"M17.41 7.96l-1.37-1.37c-.4-.4-.92-.59-1.43-.59-.52 0-1.04.2-1.43.59L10.3 9.45l-7.72 7.72c-.78.78-.78 2.05 0 2.83L4 21.41c.39.39.9.59 1.41.59.51 0 1.02-.2 1.41-.59l7.78-7.78 2.81-2.81c.8-.78.8-2.07 0-2.86zM5.41 20L4 18.59l7.72-7.72 1.47 1.35L5.41 20z\"/>\n",
              "  </svg>\n",
              "      </button>\n",
              "      \n",
              "  <style>\n",
              "    .colab-df-container {\n",
              "      display:flex;\n",
              "      flex-wrap:wrap;\n",
              "      gap: 12px;\n",
              "    }\n",
              "\n",
              "    .colab-df-convert {\n",
              "      background-color: #E8F0FE;\n",
              "      border: none;\n",
              "      border-radius: 50%;\n",
              "      cursor: pointer;\n",
              "      display: none;\n",
              "      fill: #1967D2;\n",
              "      height: 32px;\n",
              "      padding: 0 0 0 0;\n",
              "      width: 32px;\n",
              "    }\n",
              "\n",
              "    .colab-df-convert:hover {\n",
              "      background-color: #E2EBFA;\n",
              "      box-shadow: 0px 1px 2px rgba(60, 64, 67, 0.3), 0px 1px 3px 1px rgba(60, 64, 67, 0.15);\n",
              "      fill: #174EA6;\n",
              "    }\n",
              "\n",
              "    [theme=dark] .colab-df-convert {\n",
              "      background-color: #3B4455;\n",
              "      fill: #D2E3FC;\n",
              "    }\n",
              "\n",
              "    [theme=dark] .colab-df-convert:hover {\n",
              "      background-color: #434B5C;\n",
              "      box-shadow: 0px 1px 3px 1px rgba(0, 0, 0, 0.15);\n",
              "      filter: drop-shadow(0px 1px 2px rgba(0, 0, 0, 0.3));\n",
              "      fill: #FFFFFF;\n",
              "    }\n",
              "  </style>\n",
              "\n",
              "      <script>\n",
              "        const buttonEl =\n",
              "          document.querySelector('#df-7c498146-3fa0-4c28-9276-f33d0cccfda7 button.colab-df-convert');\n",
              "        buttonEl.style.display =\n",
              "          google.colab.kernel.accessAllowed ? 'block' : 'none';\n",
              "\n",
              "        async function convertToInteractive(key) {\n",
              "          const element = document.querySelector('#df-7c498146-3fa0-4c28-9276-f33d0cccfda7');\n",
              "          const dataTable =\n",
              "            await google.colab.kernel.invokeFunction('convertToInteractive',\n",
              "                                                     [key], {});\n",
              "          if (!dataTable) return;\n",
              "\n",
              "          const docLinkHtml = 'Like what you see? Visit the ' +\n",
              "            '<a target=\"_blank\" href=https://colab.research.google.com/notebooks/data_table.ipynb>data table notebook</a>'\n",
              "            + ' to learn more about interactive tables.';\n",
              "          element.innerHTML = '';\n",
              "          dataTable['output_type'] = 'display_data';\n",
              "          await google.colab.output.renderOutput(dataTable, element);\n",
              "          const docLink = document.createElement('div');\n",
              "          docLink.innerHTML = docLinkHtml;\n",
              "          element.appendChild(docLink);\n",
              "        }\n",
              "      </script>\n",
              "    </div>\n",
              "  </div>\n",
              "  "
            ]
          },
          "metadata": {},
          "execution_count": 101
        }
      ]
    },
    {
      "cell_type": "markdown",
      "source": [
        "\n",
        "data_profiling_fechas: Esta función recibe como parámetro una lista de variables de fecha a las que se les obtendrán las siguientes estadísticas: Número de valores diferentes por cada variable, moda, fecha mínima, fecha máxima, número de años diferentes, número de días totales diferentes (utiliza la resta de datetimes de pandas).\n",
        "\n",
        "Debe regresar un data frame con estas métricas por variable de fecha."
      ],
      "metadata": {
        "id": "_kZym0egT2AA"
      }
    },
    {
      "cell_type": "code",
      "source": [
        "def data_profiling_fechas(df, cols):\n",
        "    \n",
        "    result = pd.DataFrame(columns=['Columna', 'Tipo', 'Valores Diferentes', 'Fecha mínima', 'Fecha máxima', 'Moda','Días Diferentes', 'Años Diferentes'])\n",
        "    \n",
        "    for col in cols:\n",
        "            nunique = df[col].nunique()\n",
        "            minimo =df[col].min()\n",
        "            maximo =df[col].max()\n",
        "            mode = df[col].mode()[0]\n",
        "            years_unicos = df[col].dt.year.nunique()\n",
        "            dias_dif = df[col].max() - df[col].min()\n",
        "\n",
        "\n",
        "\n",
        "            result = pd.concat([result, pd.DataFrame({'Columna': col, 'Tipo': df[col].dtype.name, 'Valores Diferentes': nunique,\n",
        "                                    'Fecha mínima': minimo, 'Fecha máxima': maximo,'Moda': mode,'Días Diferentes':dias_dif , 'Años Diferentes':years_unicos}, index=[0])])\n",
        "   \n",
        "    return result"
      ],
      "metadata": {
        "id": "DfAA-e2EPaKt"
      },
      "execution_count": null,
      "outputs": []
    },
    {
      "cell_type": "code",
      "source": [
        "data_profiling_fechas(nuevo_df,['inspection_date'])"
      ],
      "metadata": {
        "colab": {
          "base_uri": "https://localhost:8080/",
          "height": 81
        },
        "id": "FiWUOcezPaNe",
        "outputId": "70802cd5-669d-4eca-9c27-4a9f88f3a928"
      },
      "execution_count": null,
      "outputs": [
        {
          "output_type": "execute_result",
          "data": {
            "text/plain": [
              "           Columna            Tipo Valores Diferentes Fecha mínima  \\\n",
              "0  inspection_date  datetime64[ns]                266   2020-11-05   \n",
              "\n",
              "  Fecha máxima       Moda Días Diferentes Años Diferentes  \n",
              "0   2023-03-07 2023-01-13        852 days               4  "
            ],
            "text/html": [
              "\n",
              "  <div id=\"df-2008d10d-cb45-4b94-9149-766406efd1ac\">\n",
              "    <div class=\"colab-df-container\">\n",
              "      <div>\n",
              "<style scoped>\n",
              "    .dataframe tbody tr th:only-of-type {\n",
              "        vertical-align: middle;\n",
              "    }\n",
              "\n",
              "    .dataframe tbody tr th {\n",
              "        vertical-align: top;\n",
              "    }\n",
              "\n",
              "    .dataframe thead th {\n",
              "        text-align: right;\n",
              "    }\n",
              "</style>\n",
              "<table border=\"1\" class=\"dataframe\">\n",
              "  <thead>\n",
              "    <tr style=\"text-align: right;\">\n",
              "      <th></th>\n",
              "      <th>Columna</th>\n",
              "      <th>Tipo</th>\n",
              "      <th>Valores Diferentes</th>\n",
              "      <th>Fecha mínima</th>\n",
              "      <th>Fecha máxima</th>\n",
              "      <th>Moda</th>\n",
              "      <th>Días Diferentes</th>\n",
              "      <th>Años Diferentes</th>\n",
              "    </tr>\n",
              "  </thead>\n",
              "  <tbody>\n",
              "    <tr>\n",
              "      <th>0</th>\n",
              "      <td>inspection_date</td>\n",
              "      <td>datetime64[ns]</td>\n",
              "      <td>266</td>\n",
              "      <td>2020-11-05</td>\n",
              "      <td>2023-03-07</td>\n",
              "      <td>2023-01-13</td>\n",
              "      <td>852 days</td>\n",
              "      <td>4</td>\n",
              "    </tr>\n",
              "  </tbody>\n",
              "</table>\n",
              "</div>\n",
              "      <button class=\"colab-df-convert\" onclick=\"convertToInteractive('df-2008d10d-cb45-4b94-9149-766406efd1ac')\"\n",
              "              title=\"Convert this dataframe to an interactive table.\"\n",
              "              style=\"display:none;\">\n",
              "        \n",
              "  <svg xmlns=\"http://www.w3.org/2000/svg\" height=\"24px\"viewBox=\"0 0 24 24\"\n",
              "       width=\"24px\">\n",
              "    <path d=\"M0 0h24v24H0V0z\" fill=\"none\"/>\n",
              "    <path d=\"M18.56 5.44l.94 2.06.94-2.06 2.06-.94-2.06-.94-.94-2.06-.94 2.06-2.06.94zm-11 1L8.5 8.5l.94-2.06 2.06-.94-2.06-.94L8.5 2.5l-.94 2.06-2.06.94zm10 10l.94 2.06.94-2.06 2.06-.94-2.06-.94-.94-2.06-.94 2.06-2.06.94z\"/><path d=\"M17.41 7.96l-1.37-1.37c-.4-.4-.92-.59-1.43-.59-.52 0-1.04.2-1.43.59L10.3 9.45l-7.72 7.72c-.78.78-.78 2.05 0 2.83L4 21.41c.39.39.9.59 1.41.59.51 0 1.02-.2 1.41-.59l7.78-7.78 2.81-2.81c.8-.78.8-2.07 0-2.86zM5.41 20L4 18.59l7.72-7.72 1.47 1.35L5.41 20z\"/>\n",
              "  </svg>\n",
              "      </button>\n",
              "      \n",
              "  <style>\n",
              "    .colab-df-container {\n",
              "      display:flex;\n",
              "      flex-wrap:wrap;\n",
              "      gap: 12px;\n",
              "    }\n",
              "\n",
              "    .colab-df-convert {\n",
              "      background-color: #E8F0FE;\n",
              "      border: none;\n",
              "      border-radius: 50%;\n",
              "      cursor: pointer;\n",
              "      display: none;\n",
              "      fill: #1967D2;\n",
              "      height: 32px;\n",
              "      padding: 0 0 0 0;\n",
              "      width: 32px;\n",
              "    }\n",
              "\n",
              "    .colab-df-convert:hover {\n",
              "      background-color: #E2EBFA;\n",
              "      box-shadow: 0px 1px 2px rgba(60, 64, 67, 0.3), 0px 1px 3px 1px rgba(60, 64, 67, 0.15);\n",
              "      fill: #174EA6;\n",
              "    }\n",
              "\n",
              "    [theme=dark] .colab-df-convert {\n",
              "      background-color: #3B4455;\n",
              "      fill: #D2E3FC;\n",
              "    }\n",
              "\n",
              "    [theme=dark] .colab-df-convert:hover {\n",
              "      background-color: #434B5C;\n",
              "      box-shadow: 0px 1px 3px 1px rgba(0, 0, 0, 0.15);\n",
              "      filter: drop-shadow(0px 1px 2px rgba(0, 0, 0, 0.3));\n",
              "      fill: #FFFFFF;\n",
              "    }\n",
              "  </style>\n",
              "\n",
              "      <script>\n",
              "        const buttonEl =\n",
              "          document.querySelector('#df-2008d10d-cb45-4b94-9149-766406efd1ac button.colab-df-convert');\n",
              "        buttonEl.style.display =\n",
              "          google.colab.kernel.accessAllowed ? 'block' : 'none';\n",
              "\n",
              "        async function convertToInteractive(key) {\n",
              "          const element = document.querySelector('#df-2008d10d-cb45-4b94-9149-766406efd1ac');\n",
              "          const dataTable =\n",
              "            await google.colab.kernel.invokeFunction('convertToInteractive',\n",
              "                                                     [key], {});\n",
              "          if (!dataTable) return;\n",
              "\n",
              "          const docLinkHtml = 'Like what you see? Visit the ' +\n",
              "            '<a target=\"_blank\" href=https://colab.research.google.com/notebooks/data_table.ipynb>data table notebook</a>'\n",
              "            + ' to learn more about interactive tables.';\n",
              "          element.innerHTML = '';\n",
              "          dataTable['output_type'] = 'display_data';\n",
              "          await google.colab.output.renderOutput(dataTable, element);\n",
              "          const docLink = document.createElement('div');\n",
              "          docLink.innerHTML = docLinkHtml;\n",
              "          element.appendChild(docLink);\n",
              "        }\n",
              "      </script>\n",
              "    </div>\n",
              "  </div>\n",
              "  "
            ]
          },
          "metadata": {},
          "execution_count": 114
        }
      ]
    },
    {
      "cell_type": "markdown",
      "source": [
        "guardar_datos_s3: Esta función recibe como parámetros el nombre de tu bucket aplicaciones-cd-1, la ruta donde guardarás los datos limpios limpieza y el data frame que ya tiene los datos con los tipos correctos.\n",
        " \n",
        "El nombre del archivo debe ser datos-limpios-2020-01-01.pkl. Donde el año, mes y día corresponde al día en que se ejecuta el script y se debe obtener de manera dinámica a través de la función today del paquete datetime.time\n",
        "\n",
        " "
      ],
      "metadata": {
        "id": "Uo1iCbitT9Se"
      }
    },
    {
      "cell_type": "code",
      "source": [
        "def guardar_consecutiva(bucket_name, bucket_path, df):\n",
        "    session = boto3.Session(\n",
        "        aws_access_key_id = x['s3']['aws_access_key_id'],\n",
        "        aws_secret_access_key = x['s3']['aws_secret_access_key'],\n",
        "        aws_session_token= x['s3']['aws_session_token']\n",
        "    )\n",
        "\n",
        "    s3 = session.resource('s3')\n",
        "\n",
        "    s3.Object(bucket_name, bucket_path).put(Body=df)\n",
        "\n",
        "    print(\"La ingesta ha sido guardada exitosamente en el bucket\")\n",
        "\n"
      ],
      "metadata": {
        "id": "QCQQFmdqSZcA"
      },
      "execution_count": null,
      "outputs": []
    },
    {
      "cell_type": "code",
      "source": [
        "data = pickle.dumps(nuevo_df)\n",
        "bucket_name = \"aplicaciones-cd-1\" + x['iexe']['matricula']\n",
        "ruta =  \"ingesta/datos-limpios-\" + str(date.today()) + \".pkl\"\n",
        "guardar_consecutiva(bucket_name, ruta, data)\n"
      ],
      "metadata": {
        "id": "Q2JZGqQESZej"
      },
      "execution_count": null,
      "outputs": []
    }
  ],
  "metadata": {
    "kernelspec": {
      "display_name": "iexe",
      "language": "python",
      "name": "iexe"
    },
    "language_info": {
      "codemirror_mode": {
        "name": "ipython",
        "version": 3
      },
      "file_extension": ".py",
      "mimetype": "text/x-python",
      "name": "python",
      "nbconvert_exporter": "python",
      "pygments_lexer": "ipython3",
      "version": "3.7.4"
    },
    "colab": {
      "provenance": [],
      "include_colab_link": true
    }
  },
  "nbformat": 4,
  "nbformat_minor": 0
}