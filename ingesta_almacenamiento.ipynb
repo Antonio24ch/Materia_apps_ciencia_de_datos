{
  "cells": [
    {
      "cell_type": "markdown",
      "metadata": {
        "id": "view-in-github",
        "colab_type": "text"
      },
      "source": [
        "<a href=\"https://colab.research.google.com/github/Antonio24ch/Materia_apps_ciencia_de_datos/blob/main/ingesta_almacenamiento.ipynb\" target=\"_parent\"><img src=\"https://colab.research.google.com/assets/colab-badge.svg\" alt=\"Open In Colab\"/></a>"
      ]
    },
    {
      "cell_type": "code",
      "source": [
        "!pip install boto3\n",
        "!pip install pickle\n",
        "!pip install yaml\n",
        "!pip install sodapy"
      ],
      "metadata": {
        "id": "gYPQJ83_fjoC"
      },
      "execution_count": null,
      "outputs": []
    },
    {
      "cell_type": "code",
      "execution_count": null,
      "metadata": {
        "id": "rV3MMdpAfWvT"
      },
      "outputs": [],
      "source": [
        "import pandas as pd\n",
        "import numpy as np\n",
        "import matplotlib.pyplot as plt\n",
        "import seaborn as sns\n",
        "import yaml\n",
        "import pickle\n",
        "import boto3\n",
        "\n",
        "from datetime import date\n",
        "from sodapy import Socrata"
      ]
    },
    {
      "cell_type": "code",
      "execution_count": null,
      "metadata": {
        "id": "9Z-54nM-fWvV",
        "outputId": "f6834572-7384-4b42-f69b-6ee077821823",
        "colab": {
          "base_uri": "https://localhost:8080/"
        }
      },
      "outputs": [
        {
          "output_type": "error",
          "ename": "FileNotFoundError",
          "evalue": "ignored",
          "traceback": [
            "\u001b[0;31m---------------------------------------------------------------------------\u001b[0m",
            "\u001b[0;31mFileNotFoundError\u001b[0m                         Traceback (most recent call last)",
            "\u001b[0;32m<ipython-input-3-4e89edfc3ea1>\u001b[0m in \u001b[0;36m<module>\u001b[0;34m\u001b[0m\n\u001b[0;32m----> 1\u001b[0;31m \u001b[0;32mwith\u001b[0m \u001b[0mopen\u001b[0m\u001b[0;34m(\u001b[0m\u001b[0;34m'credentials.yaml'\u001b[0m\u001b[0;34m,\u001b[0m \u001b[0;34m'r'\u001b[0m\u001b[0;34m)\u001b[0m \u001b[0;32mas\u001b[0m \u001b[0mf\u001b[0m\u001b[0;34m:\u001b[0m\u001b[0;34m\u001b[0m\u001b[0;34m\u001b[0m\u001b[0m\n\u001b[0m\u001b[1;32m      2\u001b[0m     \u001b[0mx\u001b[0m\u001b[0;34m=\u001b[0m \u001b[0myaml\u001b[0m\u001b[0;34m.\u001b[0m\u001b[0msafe_load\u001b[0m\u001b[0;34m(\u001b[0m\u001b[0mf\u001b[0m\u001b[0;34m)\u001b[0m\u001b[0;34m\u001b[0m\u001b[0;34m\u001b[0m\u001b[0m\n",
            "\u001b[0;31mFileNotFoundError\u001b[0m: [Errno 2] No such file or directory: 'credentials.yaml'"
          ]
        }
      ],
      "source": [
        "with open('credentials.yaml', 'r') as f:\n",
        "    x= yaml.safe_load(f)\n"
      ]
    },
    {
      "cell_type": "markdown",
      "metadata": {
        "id": "dQeHX0kEfWvW"
      },
      "source": [
        "\n",
        "\n",
        "1.   get_client: Esta función regresa un cliente que se puede conectar a la API de inspecciones de establecimiento dándole un token previamente generado.\n",
        " \n"
      ]
    },
    {
      "cell_type": "code",
      "execution_count": null,
      "metadata": {
        "id": "Kb9D2LTLfWvi"
      },
      "outputs": [],
      "source": [
        "def get_client():\n",
        "    client = Socrata(\"data.cityofchicago.org\", \n",
        "    token = x['api_chicago']['app_token'],\n",
        "    username = x['api_chicago']['username'],\n",
        "    password = x['api_chicago']['password'])\n",
        "\n",
        "       \n",
        "    return client\n",
        "\n"
      ]
    },
    {
      "cell_type": "markdown",
      "source": [
        "\n",
        "\n",
        "2.   ingesta_inicial: Esta función recibe como parámetros el cliente con el que nos podemos comunicar con la API, y el límite de registros que queremos obtener al llamar a la API. Regresa una lista de los elementos que la API regresó.\n",
        " \n",
        "\n"
      ],
      "metadata": {
        "id": "4UitLw9fqnT3"
      }
    },
    {
      "cell_type": "code",
      "source": [
        "def ingesta_inicial(cliente,limite):\n",
        "  data = \"4ijn-s7e5\"\n",
        "  limite = limite\n",
        "  cliente = client.get(data, limit=limite)\n",
        "  result = cliente\n",
        "  return result"
      ],
      "metadata": {
        "id": "td0Y_3fGjcOO"
      },
      "execution_count": null,
      "outputs": []
    },
    {
      "cell_type": "code",
      "source": [
        "ingesta = ingesta_inicial(client, 300000)"
      ],
      "metadata": {
        "id": "zG9RMnM5jfis"
      },
      "execution_count": null,
      "outputs": []
    },
    {
      "cell_type": "code",
      "source": [
        "ingesta[33]"
      ],
      "metadata": {
        "colab": {
          "base_uri": "https://localhost:8080/"
        },
        "id": "mwBJsxQJjr1A",
        "outputId": "1918c273-cc45-448b-b813-f5f28a8e4234"
      },
      "execution_count": null,
      "outputs": [
        {
          "output_type": "execute_result",
          "data": {
            "text/plain": [
              "{'inspection_id': '2571968',\n",
              " 'dba_name': 'VILLAGE HOUSE,LLC',\n",
              " 'aka_name': 'VILLAGE HOUSE',\n",
              " 'license_': '2452040',\n",
              " 'facility_type': 'Daycare (2 - 6 Years)',\n",
              " 'risk': 'Risk 1 (High)',\n",
              " 'address': '9510 S CONSTANCE AVE ',\n",
              " 'city': 'CHICAGO',\n",
              " 'state': 'IL',\n",
              " 'zip': '60617',\n",
              " 'inspection_date': '2023-03-02T00:00:00.000',\n",
              " 'inspection_type': 'License',\n",
              " 'results': 'Fail',\n",
              " 'violations': \"1. PERSON IN CHARGE PRESENT, DEMONSTRATES KNOWLEDGE, AND PERFORMS DUTIES - Comments: PIC DOESN'T HAVE A VALID CITY CERTIFIED FOOD MANAGERS CERTIFICATE.MUST PROVIDE AND MAINTAIN.(PRIORITY FOUNDATION 7-38-012) | 2. CITY OF CHICAGO FOOD SERVICE SANITATION CERTIFICATE - Comments: OBSERVED NO VALID CITY FOOD MANAGERS CERTIFICATE POSTED TO VIEW ONLY A COPY WHILE TCS FOODS ARE BEING HANDLED AND SERVED SUCH AS (CHICKEN). MUST PROVIDE ORIGINAL AND MAINTAIN.(PRIORITY FOUNDATION  7-38-012)(CITATION ISSUED) | 3. MANAGEMENT, FOOD EMPLOYEE AND CONDITIONAL EMPLOYEE; KNOWLEDGE, RESPONSIBILITIES AND REPORTING - Comments: OBSERVED NO SIGNED EMPLOYEES HEALTH POLICIES. MUST PROVIDE AND MAINTAIN.(PRIORITY FOUNDATION 7-38-010)(CITATION ISSUED) | 36. THERMOMETERS PROVIDED & ACCURATE - Comments: OBSERVED NO THERMOMETER FOR REFRIGERATOR MUST PROVIDE AND MAINTAIN. | 38. INSECTS, RODENTS, & ANIMALS NOT PRESENT - Comments: OBSERVED NO PEST CONTROL LOGBOOK ON SITE TO VIEW WITH REQUIRED DOCUMENTS. MUST PROVIDE AND MAINTAIN.(PRIORITY FOUNDATION 7-38-020(C)(CITATION ISSUED) | 48. WAREWASHING FACILITIES: INSTALLED, MAINTAINED & USED; TEST STRIPS - Comments: OBSERVED THE INCORRECT CHEMICAL TEST KIT(CHLORINE) TO CHECK SANITIZING SOLUTION PPM'S AT 3-COMPARTMENT SINK.MUST PROVIDE (QUATERNARY) STRIPS AND MAINTAIN.(PRIORITY FOUNDATION 7-38-005)(CITATION ISSUED) | 49. NON-FOOD/FOOD CONTACT SURFACES CLEAN - Comments: MUST CLEAN FOOD & DIRT DEBRIS BUILD UP FROM MICROWAVE,LOWER KITCHEN CABINET,CUBBIES IN CLASSROOMS,ROLLING CART. | 54. GARBAGE & REFUSE PROPERLY DISPOSED; FACILITIES MAINTAINED - Comments: OBSERVED OUTSIDE SHARED GARBAGE DUMPSTER MIDDLE LID PUSHED DOWN INSIDE OF DUMPSTER AND THE OTHER TWO LIDS ARE WIDE OPEN.MUST REPAIR OR REPLACE LIDS TO BE TIGHT FITTING AND KEEP LIDS CLOSED.(PRIORITY FOUNDATION 7-38-020(B)(CITATION ISSUED) | 60. PREVIOUS CORE VIOLATION CORRECTED - Comments: PREVIOUS CORE VIOLATIONS FROM REPORT # 2522849 7/19/21 NOT CORRECTED #53- OBSERVED NO COVERED RECEPTACLE IN THE STAFF TOLIET ROOM. INSTRUCTED TO PROVIDE AND MAINTAIN.#55- OBSERVED WATER STAINED CEILING TILES THROUGHOUT THE FACILITY. INSTRUCTED TO REPLACE THE STAINED CEILING TILES. #55-OBSERVED EXCESS CLUTTER AND UNNECESSARY ARTICLES STORED IN THE CLOSET INSTRUCTED TO CLEAN ALL CLUTTER, ORGANIZE, AND MAINTAIN AREAS AT ALL TIMES.(PRIORITY FOUNDATION 7-42-090)(CITATION ISSUED)\",\n",
              " 'latitude': '41.72205802488057',\n",
              " 'longitude': '-87.57913871678048',\n",
              " 'location': {'latitude': '41.72205802488057',\n",
              "  'longitude': '-87.57913871678048'},\n",
              " ':@computed_region_awaf_s7ux': '43',\n",
              " ':@computed_region_6mkv_f3dw': '21202',\n",
              " ':@computed_region_vrxf_vc4k': '48',\n",
              " ':@computed_region_bdys_3d7i': '252',\n",
              " ':@computed_region_43wa_7qmu': '37'}"
            ]
          },
          "metadata": {},
          "execution_count": 81
        }
      ]
    },
    {
      "cell_type": "code",
      "source": [
        "results_df = pd.DataFrame.from_records(ingesta)\n",
        "results_df.head(5)"
      ],
      "metadata": {
        "colab": {
          "base_uri": "https://localhost:8080/",
          "height": 577
        },
        "id": "Ge1-3MaQsdRl",
        "outputId": "9804b2ee-ccc0-4653-9cd0-e0af1d6f24df"
      },
      "execution_count": null,
      "outputs": [
        {
          "output_type": "execute_result",
          "data": {
            "text/plain": [
              "  inspection_id                      dba_name                      aka_name  \\\n",
              "0       2572122            PRETTYBOY CAFE LLC                       ESTEREO   \n",
              "1       2572120               STAND-UP BURGER               STAND-UP BURGER   \n",
              "2       2572085  PENELOPE'S VEGAN TAQUERIA #2  PENELOPE'S VEGAN TAQUERIA #2   \n",
              "3       2572124            PRETTYBOY CAFE LLC                       ESTEREO   \n",
              "4       2572094                THORNTONS #322                    THORNTON'S   \n",
              "\n",
              "  license_  facility_type             risk                 address     city  \\\n",
              "0  2863407     Restaurant  Risk 2 (Medium)   1001 W FULTON MARKET   CHICAGO   \n",
              "1  2560625     Restaurant    Risk 1 (High)         204 N WELLS ST   CHICAGO   \n",
              "2  2895971     Restaurant    Risk 1 (High)        5204 N CLARK ST   CHICAGO   \n",
              "3  2863408     Restaurant  Risk 2 (Medium)   1001 W FULTON MARKET   CHICAGO   \n",
              "4  2535182  Grocery Store  Risk 2 (Medium)  3450 S CALIFORNIA AVE   CHICAGO   \n",
              "\n",
              "  state    zip  ...             results  \\\n",
              "0    IL  60607  ...                Fail   \n",
              "1    IL  60606  ...     Out of Business   \n",
              "2    IL  60640  ...                Pass   \n",
              "3    IL  60607  ...                Fail   \n",
              "4    IL  60608  ...  Pass w/ Conditions   \n",
              "\n",
              "                                          violations            latitude  \\\n",
              "0  10. ADEQUATE HANDWASHING SINKS PROPERLY SUPPLI...   41.88662880065414   \n",
              "1                                                NaN   41.88586331626135   \n",
              "2  51. PLUMBING INSTALLED; PROPER BACKFLOW DEVICE...   41.97635748112271   \n",
              "3                                                NaN   41.88662880065414   \n",
              "4  2. CITY OF CHICAGO FOOD SERVICE SANITATION CER...  41.830402822601805   \n",
              "\n",
              "            longitude                                           location  \\\n",
              "0   -87.6522287277881  {'latitude': '41.88662880065414', 'longitude':...   \n",
              "1  -87.63408111682442  {'latitude': '41.88586331626135', 'longitude':...   \n",
              "2  -87.66856777865902  {'latitude': '41.97635748112271', 'longitude':...   \n",
              "3   -87.6522287277881  {'latitude': '41.88662880065414', 'longitude':...   \n",
              "4  -87.69495246786789  {'latitude': '41.830402822601805', 'longitude'...   \n",
              "\n",
              "  :@computed_region_awaf_s7ux :@computed_region_6mkv_f3dw  \\\n",
              "0                          41                       14917   \n",
              "1                          22                       14914   \n",
              "2                          46                       22616   \n",
              "3                          41                       14917   \n",
              "4                          29                       22248   \n",
              "\n",
              "  :@computed_region_vrxf_vc4k :@computed_region_bdys_3d7i  \\\n",
              "0                          29                          63   \n",
              "1                          38                          92   \n",
              "2                          76                         564   \n",
              "3                          29                          63   \n",
              "4                          55                         639   \n",
              "\n",
              "  :@computed_region_43wa_7qmu  \n",
              "0                          46  \n",
              "1                          36  \n",
              "2                          24  \n",
              "3                          46  \n",
              "4                           1  \n",
              "\n",
              "[5 rows x 22 columns]"
            ],
            "text/html": [
              "\n",
              "  <div id=\"df-7ca80d0a-ae4a-452d-b17b-e286fa9d669d\">\n",
              "    <div class=\"colab-df-container\">\n",
              "      <div>\n",
              "<style scoped>\n",
              "    .dataframe tbody tr th:only-of-type {\n",
              "        vertical-align: middle;\n",
              "    }\n",
              "\n",
              "    .dataframe tbody tr th {\n",
              "        vertical-align: top;\n",
              "    }\n",
              "\n",
              "    .dataframe thead th {\n",
              "        text-align: right;\n",
              "    }\n",
              "</style>\n",
              "<table border=\"1\" class=\"dataframe\">\n",
              "  <thead>\n",
              "    <tr style=\"text-align: right;\">\n",
              "      <th></th>\n",
              "      <th>inspection_id</th>\n",
              "      <th>dba_name</th>\n",
              "      <th>aka_name</th>\n",
              "      <th>license_</th>\n",
              "      <th>facility_type</th>\n",
              "      <th>risk</th>\n",
              "      <th>address</th>\n",
              "      <th>city</th>\n",
              "      <th>state</th>\n",
              "      <th>zip</th>\n",
              "      <th>...</th>\n",
              "      <th>results</th>\n",
              "      <th>violations</th>\n",
              "      <th>latitude</th>\n",
              "      <th>longitude</th>\n",
              "      <th>location</th>\n",
              "      <th>:@computed_region_awaf_s7ux</th>\n",
              "      <th>:@computed_region_6mkv_f3dw</th>\n",
              "      <th>:@computed_region_vrxf_vc4k</th>\n",
              "      <th>:@computed_region_bdys_3d7i</th>\n",
              "      <th>:@computed_region_43wa_7qmu</th>\n",
              "    </tr>\n",
              "  </thead>\n",
              "  <tbody>\n",
              "    <tr>\n",
              "      <th>0</th>\n",
              "      <td>2572122</td>\n",
              "      <td>PRETTYBOY CAFE LLC</td>\n",
              "      <td>ESTEREO</td>\n",
              "      <td>2863407</td>\n",
              "      <td>Restaurant</td>\n",
              "      <td>Risk 2 (Medium)</td>\n",
              "      <td>1001 W FULTON MARKET</td>\n",
              "      <td>CHICAGO</td>\n",
              "      <td>IL</td>\n",
              "      <td>60607</td>\n",
              "      <td>...</td>\n",
              "      <td>Fail</td>\n",
              "      <td>10. ADEQUATE HANDWASHING SINKS PROPERLY SUPPLI...</td>\n",
              "      <td>41.88662880065414</td>\n",
              "      <td>-87.6522287277881</td>\n",
              "      <td>{'latitude': '41.88662880065414', 'longitude':...</td>\n",
              "      <td>41</td>\n",
              "      <td>14917</td>\n",
              "      <td>29</td>\n",
              "      <td>63</td>\n",
              "      <td>46</td>\n",
              "    </tr>\n",
              "    <tr>\n",
              "      <th>1</th>\n",
              "      <td>2572120</td>\n",
              "      <td>STAND-UP BURGER</td>\n",
              "      <td>STAND-UP BURGER</td>\n",
              "      <td>2560625</td>\n",
              "      <td>Restaurant</td>\n",
              "      <td>Risk 1 (High)</td>\n",
              "      <td>204 N WELLS ST</td>\n",
              "      <td>CHICAGO</td>\n",
              "      <td>IL</td>\n",
              "      <td>60606</td>\n",
              "      <td>...</td>\n",
              "      <td>Out of Business</td>\n",
              "      <td>NaN</td>\n",
              "      <td>41.88586331626135</td>\n",
              "      <td>-87.63408111682442</td>\n",
              "      <td>{'latitude': '41.88586331626135', 'longitude':...</td>\n",
              "      <td>22</td>\n",
              "      <td>14914</td>\n",
              "      <td>38</td>\n",
              "      <td>92</td>\n",
              "      <td>36</td>\n",
              "    </tr>\n",
              "    <tr>\n",
              "      <th>2</th>\n",
              "      <td>2572085</td>\n",
              "      <td>PENELOPE'S VEGAN TAQUERIA #2</td>\n",
              "      <td>PENELOPE'S VEGAN TAQUERIA #2</td>\n",
              "      <td>2895971</td>\n",
              "      <td>Restaurant</td>\n",
              "      <td>Risk 1 (High)</td>\n",
              "      <td>5204 N CLARK ST</td>\n",
              "      <td>CHICAGO</td>\n",
              "      <td>IL</td>\n",
              "      <td>60640</td>\n",
              "      <td>...</td>\n",
              "      <td>Pass</td>\n",
              "      <td>51. PLUMBING INSTALLED; PROPER BACKFLOW DEVICE...</td>\n",
              "      <td>41.97635748112271</td>\n",
              "      <td>-87.66856777865902</td>\n",
              "      <td>{'latitude': '41.97635748112271', 'longitude':...</td>\n",
              "      <td>46</td>\n",
              "      <td>22616</td>\n",
              "      <td>76</td>\n",
              "      <td>564</td>\n",
              "      <td>24</td>\n",
              "    </tr>\n",
              "    <tr>\n",
              "      <th>3</th>\n",
              "      <td>2572124</td>\n",
              "      <td>PRETTYBOY CAFE LLC</td>\n",
              "      <td>ESTEREO</td>\n",
              "      <td>2863408</td>\n",
              "      <td>Restaurant</td>\n",
              "      <td>Risk 2 (Medium)</td>\n",
              "      <td>1001 W FULTON MARKET</td>\n",
              "      <td>CHICAGO</td>\n",
              "      <td>IL</td>\n",
              "      <td>60607</td>\n",
              "      <td>...</td>\n",
              "      <td>Fail</td>\n",
              "      <td>NaN</td>\n",
              "      <td>41.88662880065414</td>\n",
              "      <td>-87.6522287277881</td>\n",
              "      <td>{'latitude': '41.88662880065414', 'longitude':...</td>\n",
              "      <td>41</td>\n",
              "      <td>14917</td>\n",
              "      <td>29</td>\n",
              "      <td>63</td>\n",
              "      <td>46</td>\n",
              "    </tr>\n",
              "    <tr>\n",
              "      <th>4</th>\n",
              "      <td>2572094</td>\n",
              "      <td>THORNTONS #322</td>\n",
              "      <td>THORNTON'S</td>\n",
              "      <td>2535182</td>\n",
              "      <td>Grocery Store</td>\n",
              "      <td>Risk 2 (Medium)</td>\n",
              "      <td>3450 S CALIFORNIA AVE</td>\n",
              "      <td>CHICAGO</td>\n",
              "      <td>IL</td>\n",
              "      <td>60608</td>\n",
              "      <td>...</td>\n",
              "      <td>Pass w/ Conditions</td>\n",
              "      <td>2. CITY OF CHICAGO FOOD SERVICE SANITATION CER...</td>\n",
              "      <td>41.830402822601805</td>\n",
              "      <td>-87.69495246786789</td>\n",
              "      <td>{'latitude': '41.830402822601805', 'longitude'...</td>\n",
              "      <td>29</td>\n",
              "      <td>22248</td>\n",
              "      <td>55</td>\n",
              "      <td>639</td>\n",
              "      <td>1</td>\n",
              "    </tr>\n",
              "  </tbody>\n",
              "</table>\n",
              "<p>5 rows × 22 columns</p>\n",
              "</div>\n",
              "      <button class=\"colab-df-convert\" onclick=\"convertToInteractive('df-7ca80d0a-ae4a-452d-b17b-e286fa9d669d')\"\n",
              "              title=\"Convert this dataframe to an interactive table.\"\n",
              "              style=\"display:none;\">\n",
              "        \n",
              "  <svg xmlns=\"http://www.w3.org/2000/svg\" height=\"24px\"viewBox=\"0 0 24 24\"\n",
              "       width=\"24px\">\n",
              "    <path d=\"M0 0h24v24H0V0z\" fill=\"none\"/>\n",
              "    <path d=\"M18.56 5.44l.94 2.06.94-2.06 2.06-.94-2.06-.94-.94-2.06-.94 2.06-2.06.94zm-11 1L8.5 8.5l.94-2.06 2.06-.94-2.06-.94L8.5 2.5l-.94 2.06-2.06.94zm10 10l.94 2.06.94-2.06 2.06-.94-2.06-.94-.94-2.06-.94 2.06-2.06.94z\"/><path d=\"M17.41 7.96l-1.37-1.37c-.4-.4-.92-.59-1.43-.59-.52 0-1.04.2-1.43.59L10.3 9.45l-7.72 7.72c-.78.78-.78 2.05 0 2.83L4 21.41c.39.39.9.59 1.41.59.51 0 1.02-.2 1.41-.59l7.78-7.78 2.81-2.81c.8-.78.8-2.07 0-2.86zM5.41 20L4 18.59l7.72-7.72 1.47 1.35L5.41 20z\"/>\n",
              "  </svg>\n",
              "      </button>\n",
              "      \n",
              "  <style>\n",
              "    .colab-df-container {\n",
              "      display:flex;\n",
              "      flex-wrap:wrap;\n",
              "      gap: 12px;\n",
              "    }\n",
              "\n",
              "    .colab-df-convert {\n",
              "      background-color: #E8F0FE;\n",
              "      border: none;\n",
              "      border-radius: 50%;\n",
              "      cursor: pointer;\n",
              "      display: none;\n",
              "      fill: #1967D2;\n",
              "      height: 32px;\n",
              "      padding: 0 0 0 0;\n",
              "      width: 32px;\n",
              "    }\n",
              "\n",
              "    .colab-df-convert:hover {\n",
              "      background-color: #E2EBFA;\n",
              "      box-shadow: 0px 1px 2px rgba(60, 64, 67, 0.3), 0px 1px 3px 1px rgba(60, 64, 67, 0.15);\n",
              "      fill: #174EA6;\n",
              "    }\n",
              "\n",
              "    [theme=dark] .colab-df-convert {\n",
              "      background-color: #3B4455;\n",
              "      fill: #D2E3FC;\n",
              "    }\n",
              "\n",
              "    [theme=dark] .colab-df-convert:hover {\n",
              "      background-color: #434B5C;\n",
              "      box-shadow: 0px 1px 3px 1px rgba(0, 0, 0, 0.15);\n",
              "      filter: drop-shadow(0px 1px 2px rgba(0, 0, 0, 0.3));\n",
              "      fill: #FFFFFF;\n",
              "    }\n",
              "  </style>\n",
              "\n",
              "      <script>\n",
              "        const buttonEl =\n",
              "          document.querySelector('#df-7ca80d0a-ae4a-452d-b17b-e286fa9d669d button.colab-df-convert');\n",
              "        buttonEl.style.display =\n",
              "          google.colab.kernel.accessAllowed ? 'block' : 'none';\n",
              "\n",
              "        async function convertToInteractive(key) {\n",
              "          const element = document.querySelector('#df-7ca80d0a-ae4a-452d-b17b-e286fa9d669d');\n",
              "          const dataTable =\n",
              "            await google.colab.kernel.invokeFunction('convertToInteractive',\n",
              "                                                     [key], {});\n",
              "          if (!dataTable) return;\n",
              "\n",
              "          const docLinkHtml = 'Like what you see? Visit the ' +\n",
              "            '<a target=\"_blank\" href=https://colab.research.google.com/notebooks/data_table.ipynb>data table notebook</a>'\n",
              "            + ' to learn more about interactive tables.';\n",
              "          element.innerHTML = '';\n",
              "          dataTable['output_type'] = 'display_data';\n",
              "          await google.colab.output.renderOutput(dataTable, element);\n",
              "          const docLink = document.createElement('div');\n",
              "          docLink.innerHTML = docLinkHtml;\n",
              "          element.appendChild(docLink);\n",
              "        }\n",
              "      </script>\n",
              "    </div>\n",
              "  </div>\n",
              "  "
            ]
          },
          "metadata": {},
          "execution_count": 82
        }
      ]
    },
    {
      "cell_type": "markdown",
      "metadata": {
        "id": "PWXb51JCfWvj"
      },
      "source": [
        "\n",
        "\n",
        "3.   get_s3_resource: Esta función regresa un resource de S3 para poder guardar datos en el bucket.\n"
      ]
    },
    {
      "cell_type": "code",
      "source": [
        "def get_s3_resource(aws_access_key_id, aws_secret_access_key):\n",
        "    s3 = boto3.resource('s3', aws_access_key_id=aws_access_key_id, aws_secret_access_key=aws_secret_access_key)\n",
        "    return s3"
      ],
      "metadata": {
        "id": "w_pJPBg4j84y"
      },
      "execution_count": null,
      "outputs": []
    },
    {
      "cell_type": "code",
      "source": [
        "aws_access_key_id = x['s3']['aws_access_key_id']\n",
        "aws_secret_access_key = x['s3']['aws_secret_access_key']\n",
        "get_s3_resource(aws_access_key_id, aws_secret_access_key)"
      ],
      "metadata": {
        "colab": {
          "base_uri": "https://localhost:8080/"
        },
        "id": "4s7a9RlLkAf0",
        "outputId": "458a342a-59d9-44ad-aad9-978ebb557289"
      },
      "execution_count": null,
      "outputs": [
        {
          "output_type": "execute_result",
          "data": {
            "text/plain": [
              "s3.ServiceResource()"
            ]
          },
          "metadata": {},
          "execution_count": 35
        }
      ]
    },
    {
      "cell_type": "markdown",
      "source": [
        "\n",
        "\n",
        "4.   \n",
        "guardar_ingesta: Esta función recibe como parámetros el nombre del bucket de S3, la ruta  en el bucket en donde se guardarán los datos y el data frame que se guardará como un pickle en esa ruta.\n",
        " \n"
      ],
      "metadata": {
        "id": "zXAKzcNCq1gg"
      }
    },
    {
      "cell_type": "code",
      "source": [
        "def guardar_ingesta(bucket_name, bucket_path, df):\n",
        "    session = boto3.Session(\n",
        "        aws_access_key_id = x['s3']['aws_access_key_id'],\n",
        "        aws_secret_access_key = x['s3']['aws_secret_access_key'],\n",
        "        aws_session_token= x['s3']['aws_session_token']\n",
        "    )\n",
        "\n",
        "    s3 = session.resource('s3')\n",
        "    nombre_bucket = \"aplicaciones-cd-1\" + x['iexe']['matricula']\n",
        "    data = pickle.dumps(ingesta)\n",
        "    bucket_name = nombre_bucket\n",
        "    ruta =  \"ingesta/inicial/inspecciones-historicas-\" + str(TODAY) + \".pkl\"\n",
        "    s3.Object(nombre_bucket, bucket_path).put(Body=df)"
      ],
      "metadata": {
        "id": "t_GGyNgrkbTy"
      },
      "execution_count": null,
      "outputs": []
    },
    {
      "cell_type": "code",
      "source": [
        "session = boto3.Session(\n",
        "    aws_access_key_id = x['s3']['aws_access_key_id'],\n",
        "    aws_secret_access_key = x['s3']['aws_secret_access_key'],\n",
        "    aws_session_token= x['s3']['aws_session_token']\n",
        "  )\n",
        "s3 = session.resource('s3')\n",
        "nombre_bucket = \"aplicaciones-cd-1\" + x['iexe']['matricula']\n",
        "s3.create_bucket(Bucket=nombre_bucket)"
      ],
      "metadata": {
        "colab": {
          "base_uri": "https://localhost:8080/"
        },
        "id": "kNc4d3hpkAiu",
        "outputId": "f2a427dc-117f-42c1-9db2-2a6f658eeea5"
      },
      "execution_count": null,
      "outputs": [
        {
          "output_type": "execute_result",
          "data": {
            "text/plain": [
              "s3.Bucket(name='aplicaciones-cd-1mcda22b051')"
            ]
          },
          "metadata": {},
          "execution_count": 56
        }
      ]
    },
    {
      "cell_type": "code",
      "source": [
        "data = pickle.dumps(ingesta)\n",
        "bucket_name = nombre_bucket\n",
        "ruta =  \"ingesta/inicial/inspecciones-historicas-\" + str(TODAY) + \".pkl\"\n",
        "guardar_ingesta(bucket_name, ruta, data)\n",
        "print(\"La ingesta ha sido guardada exitosamente en el bucket\")\n"
      ],
      "metadata": {
        "colab": {
          "base_uri": "https://localhost:8080/"
        },
        "id": "Vxsqm01QkWb_",
        "outputId": "2ff0f2cf-2539-4c73-ffc0-fa0b10b28a36"
      },
      "execution_count": null,
      "outputs": [
        {
          "output_type": "stream",
          "name": "stdout",
          "text": [
            "La ingesta ha sido guardada exitosamente en el bucket\n"
          ]
        }
      ]
    },
    {
      "cell_type": "markdown",
      "source": [
        "\n",
        "\n",
        "1.   ingesta_consecutiva: Esta función recibe como parámetros el cliente con el que nos podemos comunicar con la API, la fecha de la que se quieren obtener nuevos datos al llamar a la API y el límite de registros para obtener de regreso.\n",
        "\n"
      ],
      "metadata": {
        "id": "kHmPfne-q9oz"
      }
    },
    {
      "cell_type": "code",
      "source": [
        "def ingesta_consecutiva(cliente, fecha, limite):\n",
        "    data = \"4ijn-s7e5\"\n",
        "    limite = limite\n",
        "    fecha= \"inspection_date>='{}'\".format(fecha)\n",
        "    resultados = cliente.get(data,where=fecha, limit=limite)\n",
        "    return resultados"
      ],
      "metadata": {
        "id": "m3EZKrnOkAoX"
      },
      "execution_count": null,
      "outputs": []
    },
    {
      "cell_type": "code",
      "source": [
        "result_= ingesta_consecutiva(client, '2020-11-03', 1000)"
      ],
      "metadata": {
        "id": "o2QsBNf2kArD"
      },
      "execution_count": null,
      "outputs": []
    },
    {
      "cell_type": "code",
      "execution_count": null,
      "metadata": {
        "colab": {
          "base_uri": "https://localhost:8080/"
        },
        "id": "lMQJw8rXfWvl",
        "outputId": "f5ec6fc7-3c7e-4b20-d8db-c7077898d661"
      },
      "outputs": [
        {
          "output_type": "execute_result",
          "data": {
            "text/plain": [
              "{'inspection_id': '2545883',\n",
              " 'dba_name': 'COLOR CLUB',\n",
              " 'aka_name': 'COLOR CLUB',\n",
              " 'license_': '2809101',\n",
              " 'facility_type': 'Restaurant',\n",
              " 'risk': 'Risk 3 (Low)',\n",
              " 'address': '4108-4116 N HAMLIN AVE ',\n",
              " 'city': 'CHICAGO',\n",
              " 'state': 'IL',\n",
              " 'zip': '60618',\n",
              " 'inspection_date': '2021-12-21T00:00:00.000',\n",
              " 'inspection_type': 'License',\n",
              " 'results': 'Fail',\n",
              " 'latitude': '41.95584984486689',\n",
              " 'longitude': '-87.72291941423855',\n",
              " 'location': {'latitude': '41.95584984486689',\n",
              "  'longitude': '-87.72291941423855'}}"
            ]
          },
          "metadata": {},
          "execution_count": 68
        }
      ],
      "source": [
        "result_[33]"
      ]
    },
    {
      "cell_type": "code",
      "source": [
        "results_2 = pd.DataFrame.from_records(result_)\n",
        "results_2.head(5)"
      ],
      "metadata": {
        "colab": {
          "base_uri": "https://localhost:8080/",
          "height": 409
        },
        "id": "Uajqkedaslax",
        "outputId": "218398e3-c157-4d51-9dc8-544024d7819d"
      },
      "execution_count": null,
      "outputs": [
        {
          "output_type": "execute_result",
          "data": {
            "text/plain": [
              "  inspection_id                        dba_name  \\\n",
              "0       2568436  SCHWAB REHAB HOSPITAL&CARE NET   \n",
              "1       2567065                      PARK MANOR   \n",
              "2       2564901            CHEEZE AND THANK YOU   \n",
              "3       2561538                PACINO'S RC, LLC   \n",
              "4       2555843                MC DONALD'S 6039   \n",
              "\n",
              "                         aka_name license_ facility_type             risk  \\\n",
              "0  SCHWAB REHAB HOSPITAL&CARE NET  2205586      Hospital    Risk 1 (High)   \n",
              "1           PARK MANOR ELEMENTARY    24841        School    Risk 1 (High)   \n",
              "2            CHEEZE AND THANK YOU  2872888           NaN              All   \n",
              "3                         PACINOS  2683667    Restaurant    Risk 1 (High)   \n",
              "4                     MC DONALD'S  2341076    Restaurant  Risk 2 (Medium)   \n",
              "\n",
              "                     address     city state    zip          inspection_date  \\\n",
              "0     1401 S CALIFORNIA AVE   CHICAGO    IL  60608  2022-12-13T00:00:00.000   \n",
              "1  7037 S Rhodes (532E) AVE   CHICAGO    IL  60637  2022-11-15T00:00:00.000   \n",
              "2          2046 E GRAND AVE       NaN    IL    NaN  2022-10-06T00:00:00.000   \n",
              "3          1010 S DELANO CT   CHICAGO    IL  60605  2022-08-01T00:00:00.000   \n",
              "4     5656 W IRVING PARK RD   CHICAGO    IL  60634  2022-05-16T00:00:00.000   \n",
              "\n",
              "  inspection_type    results           latitude           longitude  \\\n",
              "0         Canvass       Pass                NaN                 NaN   \n",
              "1         Canvass       Pass                NaN                 NaN   \n",
              "2         License  Not Ready                NaN                 NaN   \n",
              "3         Canvass   No Entry                NaN                 NaN   \n",
              "4         Canvass       Pass  41.95326311074034  -87.76931122260137   \n",
              "\n",
              "                                            location violations  \n",
              "0                                                NaN        NaN  \n",
              "1                                                NaN        NaN  \n",
              "2                                                NaN        NaN  \n",
              "3                                                NaN        NaN  \n",
              "4  {'latitude': '41.95326311074034', 'longitude':...        NaN  "
            ],
            "text/html": [
              "\n",
              "  <div id=\"df-98b14300-39d4-4e8b-8a2e-0e1711b6e7d9\">\n",
              "    <div class=\"colab-df-container\">\n",
              "      <div>\n",
              "<style scoped>\n",
              "    .dataframe tbody tr th:only-of-type {\n",
              "        vertical-align: middle;\n",
              "    }\n",
              "\n",
              "    .dataframe tbody tr th {\n",
              "        vertical-align: top;\n",
              "    }\n",
              "\n",
              "    .dataframe thead th {\n",
              "        text-align: right;\n",
              "    }\n",
              "</style>\n",
              "<table border=\"1\" class=\"dataframe\">\n",
              "  <thead>\n",
              "    <tr style=\"text-align: right;\">\n",
              "      <th></th>\n",
              "      <th>inspection_id</th>\n",
              "      <th>dba_name</th>\n",
              "      <th>aka_name</th>\n",
              "      <th>license_</th>\n",
              "      <th>facility_type</th>\n",
              "      <th>risk</th>\n",
              "      <th>address</th>\n",
              "      <th>city</th>\n",
              "      <th>state</th>\n",
              "      <th>zip</th>\n",
              "      <th>inspection_date</th>\n",
              "      <th>inspection_type</th>\n",
              "      <th>results</th>\n",
              "      <th>latitude</th>\n",
              "      <th>longitude</th>\n",
              "      <th>location</th>\n",
              "      <th>violations</th>\n",
              "    </tr>\n",
              "  </thead>\n",
              "  <tbody>\n",
              "    <tr>\n",
              "      <th>0</th>\n",
              "      <td>2568436</td>\n",
              "      <td>SCHWAB REHAB HOSPITAL&amp;CARE NET</td>\n",
              "      <td>SCHWAB REHAB HOSPITAL&amp;CARE NET</td>\n",
              "      <td>2205586</td>\n",
              "      <td>Hospital</td>\n",
              "      <td>Risk 1 (High)</td>\n",
              "      <td>1401 S CALIFORNIA AVE</td>\n",
              "      <td>CHICAGO</td>\n",
              "      <td>IL</td>\n",
              "      <td>60608</td>\n",
              "      <td>2022-12-13T00:00:00.000</td>\n",
              "      <td>Canvass</td>\n",
              "      <td>Pass</td>\n",
              "      <td>NaN</td>\n",
              "      <td>NaN</td>\n",
              "      <td>NaN</td>\n",
              "      <td>NaN</td>\n",
              "    </tr>\n",
              "    <tr>\n",
              "      <th>1</th>\n",
              "      <td>2567065</td>\n",
              "      <td>PARK MANOR</td>\n",
              "      <td>PARK MANOR ELEMENTARY</td>\n",
              "      <td>24841</td>\n",
              "      <td>School</td>\n",
              "      <td>Risk 1 (High)</td>\n",
              "      <td>7037 S Rhodes (532E) AVE</td>\n",
              "      <td>CHICAGO</td>\n",
              "      <td>IL</td>\n",
              "      <td>60637</td>\n",
              "      <td>2022-11-15T00:00:00.000</td>\n",
              "      <td>Canvass</td>\n",
              "      <td>Pass</td>\n",
              "      <td>NaN</td>\n",
              "      <td>NaN</td>\n",
              "      <td>NaN</td>\n",
              "      <td>NaN</td>\n",
              "    </tr>\n",
              "    <tr>\n",
              "      <th>2</th>\n",
              "      <td>2564901</td>\n",
              "      <td>CHEEZE AND THANK YOU</td>\n",
              "      <td>CHEEZE AND THANK YOU</td>\n",
              "      <td>2872888</td>\n",
              "      <td>NaN</td>\n",
              "      <td>All</td>\n",
              "      <td>2046 E GRAND AVE</td>\n",
              "      <td>NaN</td>\n",
              "      <td>IL</td>\n",
              "      <td>NaN</td>\n",
              "      <td>2022-10-06T00:00:00.000</td>\n",
              "      <td>License</td>\n",
              "      <td>Not Ready</td>\n",
              "      <td>NaN</td>\n",
              "      <td>NaN</td>\n",
              "      <td>NaN</td>\n",
              "      <td>NaN</td>\n",
              "    </tr>\n",
              "    <tr>\n",
              "      <th>3</th>\n",
              "      <td>2561538</td>\n",
              "      <td>PACINO'S RC, LLC</td>\n",
              "      <td>PACINOS</td>\n",
              "      <td>2683667</td>\n",
              "      <td>Restaurant</td>\n",
              "      <td>Risk 1 (High)</td>\n",
              "      <td>1010 S DELANO CT</td>\n",
              "      <td>CHICAGO</td>\n",
              "      <td>IL</td>\n",
              "      <td>60605</td>\n",
              "      <td>2022-08-01T00:00:00.000</td>\n",
              "      <td>Canvass</td>\n",
              "      <td>No Entry</td>\n",
              "      <td>NaN</td>\n",
              "      <td>NaN</td>\n",
              "      <td>NaN</td>\n",
              "      <td>NaN</td>\n",
              "    </tr>\n",
              "    <tr>\n",
              "      <th>4</th>\n",
              "      <td>2555843</td>\n",
              "      <td>MC DONALD'S 6039</td>\n",
              "      <td>MC DONALD'S</td>\n",
              "      <td>2341076</td>\n",
              "      <td>Restaurant</td>\n",
              "      <td>Risk 2 (Medium)</td>\n",
              "      <td>5656 W IRVING PARK RD</td>\n",
              "      <td>CHICAGO</td>\n",
              "      <td>IL</td>\n",
              "      <td>60634</td>\n",
              "      <td>2022-05-16T00:00:00.000</td>\n",
              "      <td>Canvass</td>\n",
              "      <td>Pass</td>\n",
              "      <td>41.95326311074034</td>\n",
              "      <td>-87.76931122260137</td>\n",
              "      <td>{'latitude': '41.95326311074034', 'longitude':...</td>\n",
              "      <td>NaN</td>\n",
              "    </tr>\n",
              "  </tbody>\n",
              "</table>\n",
              "</div>\n",
              "      <button class=\"colab-df-convert\" onclick=\"convertToInteractive('df-98b14300-39d4-4e8b-8a2e-0e1711b6e7d9')\"\n",
              "              title=\"Convert this dataframe to an interactive table.\"\n",
              "              style=\"display:none;\">\n",
              "        \n",
              "  <svg xmlns=\"http://www.w3.org/2000/svg\" height=\"24px\"viewBox=\"0 0 24 24\"\n",
              "       width=\"24px\">\n",
              "    <path d=\"M0 0h24v24H0V0z\" fill=\"none\"/>\n",
              "    <path d=\"M18.56 5.44l.94 2.06.94-2.06 2.06-.94-2.06-.94-.94-2.06-.94 2.06-2.06.94zm-11 1L8.5 8.5l.94-2.06 2.06-.94-2.06-.94L8.5 2.5l-.94 2.06-2.06.94zm10 10l.94 2.06.94-2.06 2.06-.94-2.06-.94-.94-2.06-.94 2.06-2.06.94z\"/><path d=\"M17.41 7.96l-1.37-1.37c-.4-.4-.92-.59-1.43-.59-.52 0-1.04.2-1.43.59L10.3 9.45l-7.72 7.72c-.78.78-.78 2.05 0 2.83L4 21.41c.39.39.9.59 1.41.59.51 0 1.02-.2 1.41-.59l7.78-7.78 2.81-2.81c.8-.78.8-2.07 0-2.86zM5.41 20L4 18.59l7.72-7.72 1.47 1.35L5.41 20z\"/>\n",
              "  </svg>\n",
              "      </button>\n",
              "      \n",
              "  <style>\n",
              "    .colab-df-container {\n",
              "      display:flex;\n",
              "      flex-wrap:wrap;\n",
              "      gap: 12px;\n",
              "    }\n",
              "\n",
              "    .colab-df-convert {\n",
              "      background-color: #E8F0FE;\n",
              "      border: none;\n",
              "      border-radius: 50%;\n",
              "      cursor: pointer;\n",
              "      display: none;\n",
              "      fill: #1967D2;\n",
              "      height: 32px;\n",
              "      padding: 0 0 0 0;\n",
              "      width: 32px;\n",
              "    }\n",
              "\n",
              "    .colab-df-convert:hover {\n",
              "      background-color: #E2EBFA;\n",
              "      box-shadow: 0px 1px 2px rgba(60, 64, 67, 0.3), 0px 1px 3px 1px rgba(60, 64, 67, 0.15);\n",
              "      fill: #174EA6;\n",
              "    }\n",
              "\n",
              "    [theme=dark] .colab-df-convert {\n",
              "      background-color: #3B4455;\n",
              "      fill: #D2E3FC;\n",
              "    }\n",
              "\n",
              "    [theme=dark] .colab-df-convert:hover {\n",
              "      background-color: #434B5C;\n",
              "      box-shadow: 0px 1px 3px 1px rgba(0, 0, 0, 0.15);\n",
              "      filter: drop-shadow(0px 1px 2px rgba(0, 0, 0, 0.3));\n",
              "      fill: #FFFFFF;\n",
              "    }\n",
              "  </style>\n",
              "\n",
              "      <script>\n",
              "        const buttonEl =\n",
              "          document.querySelector('#df-98b14300-39d4-4e8b-8a2e-0e1711b6e7d9 button.colab-df-convert');\n",
              "        buttonEl.style.display =\n",
              "          google.colab.kernel.accessAllowed ? 'block' : 'none';\n",
              "\n",
              "        async function convertToInteractive(key) {\n",
              "          const element = document.querySelector('#df-98b14300-39d4-4e8b-8a2e-0e1711b6e7d9');\n",
              "          const dataTable =\n",
              "            await google.colab.kernel.invokeFunction('convertToInteractive',\n",
              "                                                     [key], {});\n",
              "          if (!dataTable) return;\n",
              "\n",
              "          const docLinkHtml = 'Like what you see? Visit the ' +\n",
              "            '<a target=\"_blank\" href=https://colab.research.google.com/notebooks/data_table.ipynb>data table notebook</a>'\n",
              "            + ' to learn more about interactive tables.';\n",
              "          element.innerHTML = '';\n",
              "          dataTable['output_type'] = 'display_data';\n",
              "          await google.colab.output.renderOutput(dataTable, element);\n",
              "          const docLink = document.createElement('div');\n",
              "          docLink.innerHTML = docLinkHtml;\n",
              "          element.appendChild(docLink);\n",
              "        }\n",
              "      </script>\n",
              "    </div>\n",
              "  </div>\n",
              "  "
            ]
          },
          "metadata": {},
          "execution_count": 84
        }
      ]
    },
    {
      "cell_type": "code",
      "execution_count": null,
      "metadata": {
        "id": "XrwuTpVBfWvr"
      },
      "outputs": [],
      "source": [
        "def guardar_consecutiva(bucket_name, bucket_path, df):\n",
        "    session = boto3.Session(\n",
        "        aws_access_key_id = x['s3']['aws_access_key_id'],\n",
        "        aws_secret_access_key = x['s3']['aws_secret_access_key'],\n",
        "        aws_session_token= x['s3']['aws_session_token']\n",
        "    )\n",
        "\n",
        "    s3 = session.resource('s3')\n",
        "    nombre_bucket = \"aplicaciones-cd-1\" + x['iexe']['matricula']\n",
        "    data = pickle.dumps(result_)\n",
        "    bucket_name = nombre_bucket\n",
        "    ruta =  \"ingesta/consecutiva/inspecciones-historicas-\" + str(TODAY) + \".pkl\"\n",
        "    s3.Object(nombre_bucket, bucket_path).put(Body=df)"
      ]
    },
    {
      "cell_type": "code",
      "source": [
        "data = pickle.dumps(result_)\n",
        "bucket_name = nombre_bucket\n",
        "ruta =  \"ingesta/consecutiva/inspecciones-historicas-\" + str(TODAY) + \".pkl\"\n",
        "guardar_consecutiva(bucket_name, ruta, data)\n",
        "print(\"La ingesta ha sido guardada exitosamente en el bucket\")"
      ],
      "metadata": {
        "id": "lXcH-W9v38kU",
        "colab": {
          "base_uri": "https://localhost:8080/"
        },
        "outputId": "b8fac517-d95e-4251-e4eb-837635ff0b93"
      },
      "execution_count": null,
      "outputs": [
        {
          "output_type": "stream",
          "name": "stdout",
          "text": [
            "La ingesta ha sido guardada exitosamente en el bucket\n"
          ]
        }
      ]
    }
  ],
  "metadata": {
    "kernelspec": {
      "display_name": "iexe",
      "language": "python",
      "name": "iexe"
    },
    "language_info": {
      "codemirror_mode": {
        "name": "ipython",
        "version": 3
      },
      "file_extension": ".py",
      "mimetype": "text/x-python",
      "name": "python",
      "nbconvert_exporter": "python",
      "pygments_lexer": "ipython3",
      "version": "3.7.4"
    },
    "colab": {
      "provenance": [],
      "include_colab_link": true
    }
  },
  "nbformat": 4,
  "nbformat_minor": 0
}